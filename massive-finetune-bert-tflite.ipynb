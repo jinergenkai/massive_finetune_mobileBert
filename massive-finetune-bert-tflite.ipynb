{
  "cells": [
    {
      "cell_type": "markdown",
      "metadata": {
        "id": "URKn8K0HydhV"
      },
      "source": [
        "# Training and Fine-Tuning BERT for Classification\n",
        "## Classfying Goodreads Reviews By Book Genre\n",
        "\n",
        "By Maria Antoniak, Melanie Walsh, and the [AI for Humanists](https://aiforhumanists.com/) Team\n",
        "\n",
        "Updated: 2024-11-05\n",
        "<br></br>\n",
        "\n",
        "This notebook will demonstrate how users can train and fine-tune a BERT model for classification with the popular HuggingFace `transformers` Python library.\n",
        "\n",
        "We will fine-tune a BERT model on Goodreads reviews from the [UCSD Book Graph](https://mengtingwan.github.io/data/goodreads.html) with the goal of predicting the genre of the book being reviewed. The genres include:\n",
        "- poetry\n",
        "- comics & graphic\n",
        "- fantasy & paranormal\n",
        "- history & biography\n",
        "- mystery, thriller, & crime\n",
        "- romance\n",
        "- young adult  \n",
        "\n",
        "**Basic steps involved in using BERT and HuggingFace:**\n",
        "1. Divide your data into training and test sets.\n",
        "2. Encode your data into a format BERT will understand.\n",
        "3. Combine your data and labels into datset objects.\n",
        "4. Load the pre-trained BERT model.\n",
        "5. Fine-tune the model using your training data.\n",
        "6. Predict new labels and evaluate performance on your test data.\n",
        "\n"
      ]
    },
    {
      "cell_type": "markdown",
      "metadata": {
        "id": "y73xWUkpU1AC"
      },
      "source": [
        "<br><br>\n",
        "\n",
        "## **Import necessary Python libraries and modules**"
      ]
    },
    {
      "cell_type": "code",
      "execution_count": 1,
      "metadata": {},
      "outputs": [
        {
          "name": "stdout",
          "output_type": "stream",
          "text": [
            "CUDA available: True\n",
            "GPU: NVIDIA GeForce GTX 1660 SUPER\n",
            "CUDA version: 12.8\n"
          ]
        }
      ],
      "source": [
        "import torch\n",
        "print(f\"CUDA available: {torch.cuda.is_available()}\")\n",
        "if torch.cuda.is_available():\n",
        "    print(f\"GPU: {torch.cuda.get_device_name()}\")\n",
        "    print(f\"CUDA version: {torch.version.cuda}\")"
      ]
    },
    {
      "cell_type": "markdown",
      "metadata": {
        "id": "8Ak5kIOEtfXW"
      },
      "source": []
    },
    {
      "cell_type": "markdown",
      "metadata": {
        "id": "BJ9kmfrO3M_w"
      },
      "source": [
        "First, we will import necessary Python libraries and modules. These include as `gdown`, for downloading large files from Google Drive (where we will get our UCSD Goodreads reviews), as well as scikit-learn (`sklearn`) and PyTorch (`torch`), for various machine learning tools."
      ]
    },
    {
      "cell_type": "code",
      "execution_count": 2,
      "metadata": {
        "id": "x9Si6kIWcULv"
      },
      "outputs": [],
      "source": [
        "# Basic Python modules\n",
        "from collections import defaultdict\n",
        "import random\n",
        "import pickle\n",
        "\n",
        "# For working with JSON files\n",
        "import json\n",
        "\n",
        "# For data manipulation and analysis\n",
        "import pandas as pd\n",
        "import numpy as np\n",
        "\n",
        "# For machine learning tools and evaluation\n",
        "from sklearn.metrics import accuracy_score, precision_recall_fscore_support, classification_report\n",
        "from sklearn.feature_extraction.text import TfidfVectorizer\n",
        "from sklearn.linear_model import LogisticRegression\n",
        "\n",
        "# For deep learning\n",
        "# https://pytorch.org/tutorials/beginner/basics/quickstart_tutorial.html\n",
        "import torch\n",
        "\n",
        "# For plotting and data visualization\n",
        "%matplotlib inline\n",
        "import matplotlib.pyplot as plt\n",
        "import seaborn as sns\n",
        "from matplotlib import ticker\n",
        "sns.set(style='ticks', font_scale=1.2)"
      ]
    },
    {
      "cell_type": "markdown",
      "metadata": {
        "id": "4N0RIalt28yL"
      },
      "source": [
        "The HuggingFace [`transformers` Python library](https://huggingface.co/transformers/installation.html) is included in Colab by default now, so we do not need to install it (but this is how you would install it with `pip`)."
      ]
    },
    {
      "cell_type": "code",
      "execution_count": null,
      "metadata": {
        "id": "BNxmMnzoccfm"
      },
      "outputs": [],
      "source": [
        "#!pip3 install transformers"
      ]
    },
    {
      "cell_type": "markdown",
      "metadata": {
        "id": "f29CPpKi3__Q"
      },
      "source": [
        "From `transformers`, we will import modules for `DistilBert`, a *distilled* or smaller version of a BERT model that runs more quickly and uses less computing power. This makes it ideal for those just getting started with BERT."
      ]
    },
    {
      "cell_type": "code",
      "execution_count": 3,
      "metadata": {
        "id": "8ARMrKfmceAb"
      },
      "outputs": [
        {
          "name": "stderr",
          "output_type": "stream",
          "text": [
            "d:\\project\\massive_finetune\\venv\\Lib\\site-packages\\tqdm\\auto.py:21: TqdmWarning: IProgress not found. Please update jupyter and ipywidgets. See https://ipywidgets.readthedocs.io/en/stable/user_install.html\n",
            "  from .autonotebook import tqdm as notebook_tqdm\n"
          ]
        },
        {
          "name": "stdout",
          "output_type": "stream",
          "text": [
            "WARNING:tensorflow:From d:\\project\\massive_finetune\\venv\\Lib\\site-packages\\tf_keras\\src\\losses.py:2976: The name tf.losses.sparse_softmax_cross_entropy is deprecated. Please use tf.compat.v1.losses.sparse_softmax_cross_entropy instead.\n",
            "\n"
          ]
        }
      ],
      "source": [
        "from transformers import DistilBertTokenizerFast, DistilBertForSequenceClassification\n",
        "from transformers import Trainer, TrainingArguments"
      ]
    },
    {
      "cell_type": "markdown",
      "metadata": {
        "id": "Q70KYS_NVSDL"
      },
      "source": [
        "<br><br>\n",
        "\n",
        "## **Set parameters and file paths**"
      ]
    },
    {
      "cell_type": "code",
      "execution_count": null,
      "metadata": {
        "id": "piWsW9ZeaP_D"
      },
      "outputs": [],
      "source": [
        "# This is the name of the BERT model that we want to use.\n",
        "# We're using DistilBERT to save space (it's a distilled version of the full BERT model),\n",
        "# and we're going to use the cased (vs uncased) version.\n",
        "model_name = 'distilbert-base-cased'\n",
        "\n",
        "# This is the name of the program management system for NVIDIA GPUs. We're going to send our code here.\n",
        "device_name = 'cuda'\n",
        "\n",
        "# This is the maximum number of tokens in any document sent to BERT.\n",
        "max_length = 512\n",
        "\n",
        "LANGUAGE = \"en-US\"   # hoặc \"vi-VN\", \"de-DE\", ...\n",
        "\n",
        "# This is the name of the directory where we'll save our model. You can name it whatever you want.\n",
        "pt_model_path = './models/pt-model'\n",
        "tflite_model_path = './models/tflite-model/model.tflite'\n",
        "tf_model_path = \"./models/tf-model\"\n",
        "# id2label = [\n",
        "#     'romance', 'fantasy_paranormal', 'poetry', 'children',\n",
        "#     'young_adult', 'mystery_thriller_crime', 'comics_graphic', 'history_biography'\n",
        "# ]\n",
        "\n",
        "# ==== Example ====\n",
        "tests = [\n",
        "    \"A romantic story between two star-crossed lovers.\",       # romance\n",
        "    \"A tale of vampires and magical adventures.\",             # fantasy_paranormal\n",
        "    \"Roses are red, violets are blue, this poem is for you.\",# poetry\n",
        "    \"Fun stories and illustrations for children.\",           # children\n",
        "    \"A coming-of-age story about a young adult finding themselves.\", # young_adult\n",
        "    \"Detectives chase a cunning criminal through the city.\", # mystery_thriller_crime\n",
        "    \"A comic book adventure with superheroes and villains.\", # comics_graphic\n",
        "    \"A detailed biography of Abraham Lincoln and his presidency.\", # history_biography\n",
        "    \"Two lovers navigate a complicated relationship in Paris.\",     # romance\n",
        "    \"A wizard battles dark forces in a haunted castle.\",            # fantasy_paranormal\n",
        "    \"Ode to the stars shining bright in the night sky.\",            # poetry\n",
        "    \"Colorful tales of talking animals and magical forests.\",       # children\n",
        "    \"A young adult embarks on a journey of self-discovery.\",        # young_adult\n",
        "    \"A thrilling chase as the detective hunts a serial thief.\",     # mystery_thriller_crime\n",
        "    \"Superheroes team up to save the city from a giant robot.\",    # comics_graphic\n",
        "    \"An in-depth account of Marie Curie's life and discoveries.\"    # history_biography\n",
        "]"
      ]
    },
    {
      "cell_type": "code",
      "execution_count": 5,
      "metadata": {},
      "outputs": [],
      "source": [
        "# Alias \n",
        "import numpy as np\n",
        "import tensorflow as tf\n",
        "from transformers import DistilBertTokenizerFast\n",
        "\n",
        "# Load tokenizer to use throughout the code\n",
        "tokenizer = DistilBertTokenizerFast.from_pretrained(model_name)\n"
      ]
    },
    {
      "cell_type": "markdown",
      "metadata": {
        "id": "tUjeaqiTehPY"
      },
      "source": [
        "<br><br>\n",
        "\n",
        "## **Load and sample data**"
      ]
    },
    {
      "cell_type": "code",
      "execution_count": 7,
      "metadata": {},
      "outputs": [
        {
          "name": "stdout",
          "output_type": "stream",
          "text": [
            "Dataset: AmazonScience/massive\n",
            "Number of training samples: 11514\n",
            "Number of test samples: 2974\n",
            "Number of validation samples: 2033\n",
            "Samples from train: ['wake me up at nine am on friday', 'set an alarm for two hours from now', 'olly quiet'] [48, 48, 46]\n",
            "Samples from test: ['wake me up at five am this week', 'quiet', 'pink is all we need'] [48, 46, 1]\n",
            "Samples from validation: ['turn the lights off please', 'dim the lights in the hall', 'make a room darker'] [40, 31, 31]\n"
          ]
        }
      ],
      "source": [
        "from datasets import load_dataset\n",
        "\n",
        "dataset = load_dataset(\"AmazonScience/massive\", LANGUAGE)\n",
        "\n",
        "train_texts, train_labels = [], []\n",
        "test_texts, test_labels = [], []\n",
        "valid_texts, valid_labels = [], []\n",
        "\n",
        "# Train split\n",
        "for item in dataset[\"train\"]:\n",
        "    train_texts.append(item[\"utt\"])\n",
        "    train_labels.append(item[\"intent\"])\n",
        "\n",
        "# Test split\n",
        "for item in dataset[\"test\"]:\n",
        "    test_texts.append(item[\"utt\"])\n",
        "    test_labels.append(item[\"intent\"])\n",
        "\n",
        "# Validation split\n",
        "for item in dataset[\"validation\"]:\n",
        "    valid_texts.append(item[\"utt\"])\n",
        "    valid_labels.append(item[\"intent\"])\n",
        "\n",
        "print(\"Dataset: AmazonScience/massive\")\n",
        "print(\"Number of training samples:\", len(train_texts))\n",
        "print(\"Number of test samples:\", len(test_texts))\n",
        "print(\"Number of validation samples:\", len(valid_texts))\n",
        "\n",
        "print(\"Samples from train:\", train_texts[:3], train_labels[:3])\n",
        "print(\"Samples from test:\", test_texts[:3], test_labels[:3])\n",
        "print(\"Samples from validation:\", valid_texts[:3], valid_labels[:3])"
      ]
    },
    {
      "cell_type": "code",
      "execution_count": 64,
      "metadata": {},
      "outputs": [],
      "source": [
        "# Tạo dict chỉ chứa utt + intent\n",
        "massive_data = {\n",
        "    \"train\": [(item[\"utt\"], item[\"intent\"]) for item in dataset[\"train\"]],\n",
        "    \"test\": [(item[\"utt\"], item[\"intent\"]) for item in dataset[\"test\"]],\n",
        "    \"validation\": [(item[\"utt\"], item[\"intent\"]) for item in dataset[\"validation\"]],\n",
        "}\n",
        "\n",
        "# Lưu ra pickle\n",
        "with open(\"massive_dataset.pickle\", \"wb\") as f:\n",
        "    pickle.dump(massive_data, f)\n",
        "\n",
        "# with open(\"massive_dataset.pickle\", \"rb\") as f:\n",
        "#     massive_data = pickle.load(f)\n",
        "\n",
        "# train_texts, train_labels = zip(*massive_data[\"train\"])\n",
        "# test_texts, test_labels = zip(*massive_data[\"test\"])\n",
        "# valid_texts, valid_labels = zip(*massive_data[\"validation\"])\n",
        "\n",
        "\n"
      ]
    },
    {
      "cell_type": "markdown",
      "metadata": {
        "id": "0FoaXKbKjXRX"
      },
      "source": [
        "<br><br>\n",
        "\n",
        "## **Run a baseline model (logistic regression)**\n",
        "\n",
        "Here we train and evaluate a simple TF-IDF baseline model using logistic regression.\n",
        "\n",
        "We find better-than-random performance, even for a very small dataset. We'll see whether BERT can beat this good baseline!"
      ]
    },
    {
      "cell_type": "code",
      "execution_count": 8,
      "metadata": {
        "id": "RBTyTh8Ui2D3"
      },
      "outputs": [],
      "source": [
        "vectorizer = TfidfVectorizer()\n",
        "X_train = vectorizer.fit_transform(train_texts)\n",
        "X_test = vectorizer.transform(test_texts)"
      ]
    },
    {
      "cell_type": "markdown",
      "metadata": {
        "id": "gMjmweu6MIQU"
      },
      "source": [
        "We train a logistic regression model from scikit-learn on the Goodreads training data, and then we use the trained model to make predictions on our Goodreads review test set."
      ]
    },
    {
      "cell_type": "code",
      "execution_count": 9,
      "metadata": {
        "id": "R92S7JZfjiaC"
      },
      "outputs": [],
      "source": [
        "model = LogisticRegression(max_iter=1000).fit(X_train, train_labels)\n",
        "predictions = model.predict(X_test)"
      ]
    },
    {
      "cell_type": "markdown",
      "metadata": {
        "id": "s6YmW7WZMhh3"
      },
      "source": [
        "We can use scikit-learn's `classification_report` function to evaluate how well the logistic regression model's predictions match up with the true labels for the Goodreads reviews.\n",
        "\n",
        "Importantly, we can see that our average scores are above random performance (we have 8 classes, so random performance would be ~0.2)."
      ]
    },
    {
      "cell_type": "code",
      "execution_count": 10,
      "metadata": {
        "colab": {
          "base_uri": "https://localhost:8080/"
        },
        "id": "UeJd8ogKjpg0",
        "outputId": "c3a818ab-0549-4aea-9f99-310a81c09ca5"
      },
      "outputs": [
        {
          "name": "stdout",
          "output_type": "stream",
          "text": [
            "              precision    recall  f1-score   support\n",
            "\n",
            "           0       0.87      0.89      0.88        88\n",
            "           1       0.91      0.89      0.90        36\n",
            "           2       0.97      0.83      0.89        35\n",
            "           3       0.92      0.63      0.75        35\n",
            "           4       0.92      0.88      0.90        26\n",
            "           5       0.00      0.00      0.00         1\n",
            "           6       0.79      0.70      0.74        43\n",
            "           7       0.00      0.00      0.00         4\n",
            "           8       0.92      0.67      0.77        18\n",
            "           9       0.98      0.78      0.87        72\n",
            "          10       0.95      0.92      0.94        39\n",
            "          11       0.83      1.00      0.91        15\n",
            "          12       0.45      0.66      0.53       169\n",
            "          13       0.86      0.93      0.90       156\n",
            "          14       0.56      0.69      0.62        13\n",
            "          15       0.67      0.50      0.57        12\n",
            "          16       0.77      0.77      0.77        22\n",
            "          17       0.71      0.58      0.64        26\n",
            "          18       0.96      0.85      0.90        27\n",
            "          19       0.82      0.74      0.78        31\n",
            "          20       0.93      0.66      0.77        41\n",
            "          21       0.87      0.85      0.86        39\n",
            "          22       0.84      0.81      0.82       124\n",
            "          23       0.93      0.76      0.84        34\n",
            "          24       1.00      0.50      0.67        10\n",
            "          25       1.00      0.89      0.94        19\n",
            "          26       0.90      0.79      0.84        57\n",
            "          27       0.94      0.64      0.76        25\n",
            "          28       0.00      0.00      0.00         6\n",
            "          29       1.00      0.17      0.29         6\n",
            "          30       0.86      0.91      0.88        67\n",
            "          31       0.79      0.90      0.84        21\n",
            "          32       0.69      0.74      0.71       126\n",
            "          33       0.90      0.94      0.92       114\n",
            "          34       1.00      0.85      0.92        26\n",
            "          35       1.00      0.64      0.78        11\n",
            "          36       0.87      0.83      0.85        72\n",
            "          38       0.89      0.53      0.67        15\n",
            "          39       0.85      0.68      0.76        25\n",
            "          40       0.80      0.86      0.83        43\n",
            "          41       0.00      0.00      0.00         3\n",
            "          42       0.82      0.65      0.73        51\n",
            "          43       0.95      0.50      0.65        36\n",
            "          44       0.97      0.92      0.95       119\n",
            "          45       0.73      0.94      0.82       176\n",
            "          46       1.00      0.69      0.81        32\n",
            "          47       0.94      0.84      0.89        81\n",
            "          48       0.79      0.83      0.81        41\n",
            "          49       0.55      0.81      0.66       141\n",
            "          50       0.80      0.92      0.86       209\n",
            "          51       0.95      0.54      0.69        35\n",
            "          52       0.94      0.71      0.81        21\n",
            "          53       0.97      0.69      0.81        52\n",
            "          54       1.00      0.87      0.93        23\n",
            "          55       0.64      0.45      0.53        20\n",
            "          56       1.00      0.92      0.96        36\n",
            "          57       0.92      0.69      0.79        35\n",
            "          58       1.00      0.79      0.88        63\n",
            "          59       0.83      0.78      0.81        51\n",
            "\n",
            "    accuracy                           0.80      2974\n",
            "   macro avg       0.81      0.70      0.74      2974\n",
            "weighted avg       0.82      0.80      0.80      2974\n",
            "\n"
          ]
        },
        {
          "name": "stderr",
          "output_type": "stream",
          "text": [
            "d:\\project\\massive_finetune\\venv\\Lib\\site-packages\\sklearn\\metrics\\_classification.py:1731: UndefinedMetricWarning: Precision is ill-defined and being set to 0.0 in labels with no predicted samples. Use `zero_division` parameter to control this behavior.\n",
            "  _warn_prf(average, modifier, f\"{metric.capitalize()} is\", result.shape[0])\n",
            "d:\\project\\massive_finetune\\venv\\Lib\\site-packages\\sklearn\\metrics\\_classification.py:1731: UndefinedMetricWarning: Precision is ill-defined and being set to 0.0 in labels with no predicted samples. Use `zero_division` parameter to control this behavior.\n",
            "  _warn_prf(average, modifier, f\"{metric.capitalize()} is\", result.shape[0])\n",
            "d:\\project\\massive_finetune\\venv\\Lib\\site-packages\\sklearn\\metrics\\_classification.py:1731: UndefinedMetricWarning: Precision is ill-defined and being set to 0.0 in labels with no predicted samples. Use `zero_division` parameter to control this behavior.\n",
            "  _warn_prf(average, modifier, f\"{metric.capitalize()} is\", result.shape[0])\n"
          ]
        }
      ],
      "source": [
        "print(classification_report(test_labels, predictions))"
      ]
    },
    {
      "cell_type": "markdown",
      "metadata": {
        "id": "Aow3FPpppZVE"
      },
      "source": [
        "<br><br>\n",
        "\n",
        "## **Encode data for BERT**\n",
        "\n",
        "We're going to transform our texts and labels into a format that BERT (via Huggingface and PyTorch) will understand. This is called *encoding* the data.\n",
        "\n",
        "Here are the steps we need to follow:\n",
        "\n",
        "1. The labels&mdash;in this case, Goodreads genres&mdash;need to be turned into integers rather than strings.\n",
        "\n",
        "2. The texts&mdash;in this case, Goodreads reviews&mdash;need to be truncated if they're more than 512 tokens or padded if they're fewer than 512 tokens. The tokens, or words in the texts, also need to be separated into \"word pieces\" and matched to their embedding vectors.\n",
        "\n",
        "3. We need to add special tokens to help BERT:\n",
        "\n",
        "| BERT special token | Explanation |\n",
        "| --------------| ---------|\n",
        "| [CLS] | Start token of every document. |\n",
        "| [SEP] | Separator between each sentence |\n",
        "| [PAD] | Padding at the end of the document as many times as necessary, up to 512 tokens |\n",
        "|  &#35;&#35; | Start of a \"word piece\" |\n",
        "\n",
        "\n"
      ]
    },
    {
      "cell_type": "markdown",
      "metadata": {
        "id": "GRs0dEIoUZtV"
      },
      "source": [
        "Here we will load `DistilBertTokenizerFast` from the HuggingFace library, which will do all the work of encoding the texts for us. The `tokenizer()` will break word tokens into word pieces, truncate to 512 tokens, and add padding and special BERT tokens."
      ]
    },
    {
      "cell_type": "code",
      "execution_count": 11,
      "metadata": {
        "colab": {
          "base_uri": "https://localhost:8080/",
          "height": 249,
          "referenced_widgets": [
            "c0c470dda02749d7a61c4c9994507660",
            "9fa461bb2b7a406f9ede608c924c9bf4",
            "f7ec1c23c4b94384a037430ec2e2104e",
            "d551304b4a544194abd28cc09f2ad83f",
            "18a99cc6bda54e869c910be328b48926",
            "2288d77311aa4bc3bace7de60ff209e5",
            "23d21a0b3a4641ff83e490e0a5c6305c",
            "94c9899ff2cf40268414936aa19fb838",
            "83b16dee7e534b899754e9be0023c20a",
            "165cc18d27f6428586e7d490e26baef2",
            "bb68d4ea25e147ce87da5cf7a0b9b8f8",
            "17a55f2db20d42d390021baf2586e9cd",
            "32bf65dcf34942ce8fce739a8366ed33",
            "a9c03ff1ec8740f2a2b91dc5fe0a5048",
            "82bda4cc48cd4e0b92ebb4ea844814ed",
            "5b65bcfd51f44715ad0f848154c6aebf",
            "c2654fcb0de54a05bff9cb15228648f8",
            "4b9ecc459e86488192bad90c002ccfca",
            "ff26af11c1bb41e0b532159878965d41",
            "b9daf3ece55042a3aaa263fbd1a22305",
            "baf40fb8e80a457dbd0cbda40d50a298",
            "b3bfdd2b3c604f7dacbab43e1ac19e81",
            "0139852dd380478ba0de7da5d3652539",
            "ef92cb1d41db4f108adfe83c3b76d858",
            "aaffc37f01e94036bb267b0d6e86188e",
            "faf85a73bedc4d9c8abf0159cc2fb70b",
            "7db4314986b04a36af79f015d0e68882",
            "94db2de082ae4a148ed7a619751fc67f",
            "0daad0d19b184e5bb9b0763e1dbca11f",
            "a2d97a5218d6405f9b9f62cf95142753",
            "cf2993d35df445ee99167258bff4a67d",
            "78856e0e872e43d2bd62e0a00f55bb19",
            "243d4ca33ec748b895a6c7d74ac14e69",
            "2e96552c058d41589f340b305ace6a6d",
            "3be72d37b2264fa386d31dc542ebcd56",
            "f556c071faf146a7ad039dbd207a056d",
            "acc0f7c5fbdb4648b19254c46f0a6845",
            "5535c8a12ba54566b25ed71e0976fe6a",
            "ce7f944a055e47ba9becaf0f790f34b2",
            "57f9cb22b05a4d0db9760b4e18bfde78",
            "30147e45534045449c5a6c9c921d0659",
            "d9914a04e36341f0a75f00e3b8e36218",
            "4a0de2f0ee0141178469d136949da5f8",
            "100f142ef0e3448f850e527390c5d154"
          ]
        },
        "id": "9BEvRqpGVMUD",
        "outputId": "9ab368da-e063-4165-e44a-719a2b29a623"
      },
      "outputs": [],
      "source": [
        "tokenizer = DistilBertTokenizerFast.from_pretrained(model_name) # The model_name needs to match our pre-trained model."
      ]
    },
    {
      "cell_type": "markdown",
      "metadata": {
        "id": "oj8X7B30UvSj"
      },
      "source": [
        "Here we will create a map of our labels, or Goodreads genres, to integer keys. We take the unique labels, and then we make a dictionary that associates each label/tag with an integer.\n",
        "\n",
        "**Note:** HuggingFace documentation sometimes refers to \"labels\" as \"tags\" but these are the same thing. We use \"labels\" throughout this notebook for clarity."
      ]
    },
    {
      "cell_type": "code",
      "execution_count": 20,
      "metadata": {
        "id": "tSuo8gktjsVR"
      },
      "outputs": [
        {
          "name": "stdout",
          "output_type": "stream",
          "text": [
            "id2label: {0: 'datetime_query', 1: 'iot_hue_lightchange', 2: 'transport_ticket', 3: 'takeaway_query', 4: 'qa_stock', 5: 'general_greet', 6: 'recommendation_events', 7: 'music_dislikeness', 8: 'iot_wemo_off', 9: 'cooking_recipe', 10: 'qa_currency', 11: 'transport_traffic', 12: 'general_quirky', 13: 'weather_query', 14: 'audio_volume_up', 15: 'email_addcontact', 16: 'takeaway_order', 17: 'email_querycontact', 18: 'iot_hue_lightup', 19: 'recommendation_locations', 20: 'play_audiobook', 21: 'lists_createoradd', 22: 'news_query', 23: 'alarm_query', 24: 'iot_wemo_on', 25: 'general_joke', 26: 'qa_definition', 27: 'social_query', 28: 'music_settings', 29: 'audio_volume_other', 30: 'calendar_remove', 31: 'iot_hue_lightdim', 32: 'calendar_query', 33: 'email_sendemail', 34: 'iot_cleaning', 35: 'audio_volume_down', 36: 'play_radio', 37: 'cooking_query', 38: 'datetime_convert', 39: 'qa_maths', 40: 'iot_hue_lightoff', 41: 'iot_hue_lighton', 42: 'transport_query', 43: 'music_likeness', 44: 'email_query', 45: 'play_music', 46: 'audio_volume_mute', 47: 'social_post', 48: 'alarm_set', 49: 'qa_factoid', 50: 'calendar_set', 51: 'play_game', 52: 'alarm_remove', 53: 'lists_remove', 54: 'transport_taxi', 55: 'recommendation_movies', 56: 'iot_coffee', 57: 'music_query', 58: 'play_podcasts', 59: 'lists_query'}\n",
            "label2id: {'datetime_query': 0, 'iot_hue_lightchange': 1, 'transport_ticket': 2, 'takeaway_query': 3, 'qa_stock': 4, 'general_greet': 5, 'recommendation_events': 6, 'music_dislikeness': 7, 'iot_wemo_off': 8, 'cooking_recipe': 9, 'qa_currency': 10, 'transport_traffic': 11, 'general_quirky': 12, 'weather_query': 13, 'audio_volume_up': 14, 'email_addcontact': 15, 'takeaway_order': 16, 'email_querycontact': 17, 'iot_hue_lightup': 18, 'recommendation_locations': 19, 'play_audiobook': 20, 'lists_createoradd': 21, 'news_query': 22, 'alarm_query': 23, 'iot_wemo_on': 24, 'general_joke': 25, 'qa_definition': 26, 'social_query': 27, 'music_settings': 28, 'audio_volume_other': 29, 'calendar_remove': 30, 'iot_hue_lightdim': 31, 'calendar_query': 32, 'email_sendemail': 33, 'iot_cleaning': 34, 'audio_volume_down': 35, 'play_radio': 36, 'cooking_query': 37, 'datetime_convert': 38, 'qa_maths': 39, 'iot_hue_lightoff': 40, 'iot_hue_lighton': 41, 'transport_query': 42, 'music_likeness': 43, 'email_query': 44, 'play_music': 45, 'audio_volume_mute': 46, 'social_post': 47, 'alarm_set': 48, 'qa_factoid': 49, 'calendar_set': 50, 'play_game': 51, 'alarm_remove': 52, 'lists_remove': 53, 'transport_taxi': 54, 'recommendation_movies': 55, 'iot_coffee': 56, 'music_query': 57, 'play_podcasts': 58, 'lists_query': 59}\n"
          ]
        }
      ],
      "source": [
        "import json\n",
        "\n",
        "with open(\"./models/intent_mapping.json\", \"r\", encoding=\"utf-8\") as f:\n",
        "    id2label = json.load(f)\n",
        "\n",
        "id2label = {int(k): v for k, v in id2label.items()}\n",
        "label2id = {v: k for k, v in id2label.items()}\n",
        "\n",
        "print(\"id2label:\", id2label)\n",
        "print(\"label2id:\", label2id)"
      ]
    },
    {
      "cell_type": "code",
      "execution_count": 21,
      "metadata": {
        "colab": {
          "base_uri": "https://localhost:8080/"
        },
        "id": "M_iAWMtBpfhj",
        "outputId": "eaec3ba6-071b-4d80-a182-f6e0d09d09c1"
      },
      "outputs": [
        {
          "data": {
            "text/plain": [
              "dict_keys(['datetime_query', 'iot_hue_lightchange', 'transport_ticket', 'takeaway_query', 'qa_stock', 'general_greet', 'recommendation_events', 'music_dislikeness', 'iot_wemo_off', 'cooking_recipe', 'qa_currency', 'transport_traffic', 'general_quirky', 'weather_query', 'audio_volume_up', 'email_addcontact', 'takeaway_order', 'email_querycontact', 'iot_hue_lightup', 'recommendation_locations', 'play_audiobook', 'lists_createoradd', 'news_query', 'alarm_query', 'iot_wemo_on', 'general_joke', 'qa_definition', 'social_query', 'music_settings', 'audio_volume_other', 'calendar_remove', 'iot_hue_lightdim', 'calendar_query', 'email_sendemail', 'iot_cleaning', 'audio_volume_down', 'play_radio', 'cooking_query', 'datetime_convert', 'qa_maths', 'iot_hue_lightoff', 'iot_hue_lighton', 'transport_query', 'music_likeness', 'email_query', 'play_music', 'audio_volume_mute', 'social_post', 'alarm_set', 'qa_factoid', 'calendar_set', 'play_game', 'alarm_remove', 'lists_remove', 'transport_taxi', 'recommendation_movies', 'iot_coffee', 'music_query', 'play_podcasts', 'lists_query'])"
            ]
          },
          "execution_count": 21,
          "metadata": {},
          "output_type": "execute_result"
        }
      ],
      "source": [
        "label2id.keys()"
      ]
    },
    {
      "cell_type": "code",
      "execution_count": 22,
      "metadata": {
        "colab": {
          "base_uri": "https://localhost:8080/"
        },
        "id": "vle8EgkelwRa",
        "outputId": "be86b1d4-af2c-43e1-b348-e83bd7ed90ca"
      },
      "outputs": [
        {
          "data": {
            "text/plain": [
              "dict_keys([0, 1, 2, 3, 4, 5, 6, 7, 8, 9, 10, 11, 12, 13, 14, 15, 16, 17, 18, 19, 20, 21, 22, 23, 24, 25, 26, 27, 28, 29, 30, 31, 32, 33, 34, 35, 36, 37, 38, 39, 40, 41, 42, 43, 44, 45, 46, 47, 48, 49, 50, 51, 52, 53, 54, 55, 56, 57, 58, 59])"
            ]
          },
          "execution_count": 22,
          "metadata": {},
          "output_type": "execute_result"
        }
      ],
      "source": [
        "id2label.keys()"
      ]
    },
    {
      "cell_type": "markdown",
      "metadata": {
        "id": "EraNFBC8VnPu"
      },
      "source": [
        "Now let's encode our texts and labels!"
      ]
    },
    {
      "cell_type": "code",
      "execution_count": 30,
      "metadata": {
        "id": "uDuGq_n4pgZX"
      },
      "outputs": [],
      "source": [
        "train_encodings = tokenizer(train_texts, truncation=True, padding=True, max_length=max_length)\n",
        "test_encodings  = tokenizer(test_texts, truncation=True, padding=True, max_length=max_length)\n",
        "\n",
        "# massive data: label already convert to num\n",
        "# train_labels_encoded = [label2id[y] for y in train_labels]\n",
        "# test_labels_encoded  = [label2id[y] for y in test_labels]\n",
        "train_labels_encoded = train_labels\n",
        "test_labels_encoded = test_labels"
      ]
    },
    {
      "cell_type": "markdown",
      "metadata": {
        "id": "7X1sYEGsWDDh"
      },
      "source": [
        "**Examine a Goodreads review in the training set after encoding**"
      ]
    },
    {
      "cell_type": "code",
      "execution_count": 27,
      "metadata": {
        "colab": {
          "base_uri": "https://localhost:8080/",
          "height": 122
        },
        "id": "4A89SN_ppiUP",
        "outputId": "151720cb-eb36-4349-c776-b91ec1a5e48b"
      },
      "outputs": [
        {
          "data": {
            "text/plain": [
              "'[CLS] wake me up at nine am on f ##rida ##y [SEP] [PAD] [PAD] [PAD] [PAD] [PAD] [PAD] [PAD] [PAD] [PAD] [PAD] [PAD] [PAD] [PAD] [PAD] [PAD] [PAD] [PAD] [PAD] [PAD] [PAD] [PAD] [PAD] [PAD] [PAD] [PAD] [PAD] [PAD] [PAD] [PAD] [PAD] [PAD]'"
            ]
          },
          "execution_count": 27,
          "metadata": {},
          "output_type": "execute_result"
        }
      ],
      "source": [
        "' '.join(train_encodings[0].tokens[0:500])"
      ]
    },
    {
      "cell_type": "markdown",
      "metadata": {
        "id": "3hvOn9RGWUMm"
      },
      "source": [
        "**Examine a Goodreads review in the test set after encoding**"
      ]
    },
    {
      "cell_type": "code",
      "execution_count": 31,
      "metadata": {
        "colab": {
          "base_uri": "https://localhost:8080/",
          "height": 53
        },
        "id": "OafZQFKSwG9E",
        "outputId": "9479631f-1f99-42ba-a148-6ee8cbb805a3"
      },
      "outputs": [
        {
          "data": {
            "text/plain": [
              "'[CLS] wake me up at five am this week [SEP] [PAD] [PAD] [PAD] [PAD] [PAD] [PAD] [PAD] [PAD] [PAD] [PAD] [PAD] [PAD] [PAD] [PAD] [PAD] [PAD] [PAD] [PAD] [PAD] [PAD] [PAD] [PAD] [PAD] [PAD] [PAD] [PAD] [PAD] [PAD] [PAD] [PAD] [PAD] [PAD] [PAD] [PAD] [PAD] [PAD] [PAD] [PAD] [PAD] [PAD] [PAD] [PAD] [PAD] [PAD] [PAD] [PAD] [PAD] [PAD] [PAD] [PAD] [PAD] [PAD] [PAD] [PAD]'"
            ]
          },
          "execution_count": 31,
          "metadata": {},
          "output_type": "execute_result"
        }
      ],
      "source": [
        "' '.join(test_encodings[0].tokens[0:100])"
      ]
    },
    {
      "cell_type": "markdown",
      "metadata": {
        "id": "1jmt15FvW8FR"
      },
      "source": [
        "**Examine the training labels after encoding**"
      ]
    },
    {
      "cell_type": "code",
      "execution_count": 32,
      "metadata": {
        "colab": {
          "base_uri": "https://localhost:8080/"
        },
        "id": "ciemdVYwwMNz",
        "outputId": "1722ada3-8992-4ff2-97ad-9d1327546758"
      },
      "outputs": [
        {
          "data": {
            "text/plain": [
              "{0,\n",
              " 1,\n",
              " 2,\n",
              " 3,\n",
              " 4,\n",
              " 5,\n",
              " 6,\n",
              " 7,\n",
              " 8,\n",
              " 9,\n",
              " 10,\n",
              " 11,\n",
              " 12,\n",
              " 13,\n",
              " 14,\n",
              " 15,\n",
              " 16,\n",
              " 17,\n",
              " 18,\n",
              " 19,\n",
              " 20,\n",
              " 21,\n",
              " 22,\n",
              " 23,\n",
              " 24,\n",
              " 25,\n",
              " 26,\n",
              " 27,\n",
              " 28,\n",
              " 29,\n",
              " 30,\n",
              " 31,\n",
              " 32,\n",
              " 33,\n",
              " 34,\n",
              " 35,\n",
              " 36,\n",
              " 37,\n",
              " 38,\n",
              " 39,\n",
              " 40,\n",
              " 41,\n",
              " 42,\n",
              " 43,\n",
              " 44,\n",
              " 45,\n",
              " 46,\n",
              " 47,\n",
              " 48,\n",
              " 49,\n",
              " 50,\n",
              " 51,\n",
              " 52,\n",
              " 53,\n",
              " 54,\n",
              " 55,\n",
              " 56,\n",
              " 57,\n",
              " 58,\n",
              " 59}"
            ]
          },
          "execution_count": 32,
          "metadata": {},
          "output_type": "execute_result"
        }
      ],
      "source": [
        "set(train_labels_encoded)"
      ]
    },
    {
      "cell_type": "markdown",
      "metadata": {
        "id": "UK1Ngb0wXBz9"
      },
      "source": [
        "**Examine the test labels after encoding**"
      ]
    },
    {
      "cell_type": "code",
      "execution_count": 33,
      "metadata": {
        "colab": {
          "base_uri": "https://localhost:8080/"
        },
        "id": "TowwulYQwOff",
        "outputId": "a9561287-d5cd-4ce0-cbf2-116bbe5d9172"
      },
      "outputs": [
        {
          "data": {
            "text/plain": [
              "{0,\n",
              " 1,\n",
              " 2,\n",
              " 3,\n",
              " 4,\n",
              " 5,\n",
              " 6,\n",
              " 7,\n",
              " 8,\n",
              " 9,\n",
              " 10,\n",
              " 11,\n",
              " 12,\n",
              " 13,\n",
              " 14,\n",
              " 15,\n",
              " 16,\n",
              " 17,\n",
              " 18,\n",
              " 19,\n",
              " 20,\n",
              " 21,\n",
              " 22,\n",
              " 23,\n",
              " 24,\n",
              " 25,\n",
              " 26,\n",
              " 27,\n",
              " 28,\n",
              " 29,\n",
              " 30,\n",
              " 31,\n",
              " 32,\n",
              " 33,\n",
              " 34,\n",
              " 35,\n",
              " 36,\n",
              " 38,\n",
              " 39,\n",
              " 40,\n",
              " 41,\n",
              " 42,\n",
              " 43,\n",
              " 44,\n",
              " 45,\n",
              " 46,\n",
              " 47,\n",
              " 48,\n",
              " 49,\n",
              " 50,\n",
              " 51,\n",
              " 52,\n",
              " 53,\n",
              " 54,\n",
              " 55,\n",
              " 56,\n",
              " 57,\n",
              " 58,\n",
              " 59}"
            ]
          },
          "execution_count": 33,
          "metadata": {},
          "output_type": "execute_result"
        }
      ],
      "source": [
        "set(test_labels_encoded)"
      ]
    },
    {
      "cell_type": "markdown",
      "metadata": {
        "id": "ChcEv01TXI7v"
      },
      "source": [
        "<br><br>\n",
        "\n",
        "## **Make a custom Torch dataset**"
      ]
    },
    {
      "cell_type": "markdown",
      "metadata": {
        "id": "PxWcyj0LXVtY"
      },
      "source": [
        "Here we combine the encoded labels and texts into dataset objects. We use the custom Torch `MyDataSet` class to make a `train_dataset` object from  the `train_encodings` and `train_labels_encoded`. We also make a `test_dataset` object from `test_encodings`, and `test_labels_encoded`."
      ]
    },
    {
      "cell_type": "code",
      "execution_count": 34,
      "metadata": {
        "id": "S4VCU-nepnqF"
      },
      "outputs": [],
      "source": [
        "class MyDataset(torch.utils.data.Dataset):\n",
        "    def __init__(self, encodings, labels):\n",
        "        self.encodings = encodings\n",
        "        self.labels = labels\n",
        "\n",
        "    def __getitem__(self, idx):\n",
        "        item = {key: torch.tensor(val[idx]) for key, val in self.encodings.items()}\n",
        "        item['labels'] = torch.tensor(self.labels[idx])\n",
        "        return item\n",
        "\n",
        "    def __len__(self):\n",
        "        return len(self.labels)"
      ]
    },
    {
      "cell_type": "code",
      "execution_count": 35,
      "metadata": {
        "id": "xyCFH3XEi4Ng"
      },
      "outputs": [],
      "source": [
        "train_dataset = MyDataset(train_encodings, train_labels_encoded)\n",
        "test_dataset = MyDataset(test_encodings, test_labels_encoded)"
      ]
    },
    {
      "cell_type": "markdown",
      "metadata": {
        "id": "lSoXOmDYYyAK"
      },
      "source": [
        "**Examine a Goodreads review in the Torch `training_dataset` after encoding**"
      ]
    },
    {
      "cell_type": "code",
      "execution_count": 36,
      "metadata": {
        "colab": {
          "base_uri": "https://localhost:8080/",
          "height": 70
        },
        "id": "DbJerEgC1Qpc",
        "outputId": "1e430429-5e14-4ce8-c46f-7a685e58c296"
      },
      "outputs": [
        {
          "data": {
            "text/plain": [
              "'[CLS] wake me up at nine am on f ##rida ##y [SEP] [PAD] [PAD] [PAD] [PAD] [PAD] [PAD] [PAD] [PAD] [PAD] [PAD] [PAD] [PAD] [PAD] [PAD] [PAD] [PAD] [PAD] [PAD] [PAD] [PAD] [PAD] [PAD] [PAD] [PAD] [PAD] [PAD] [PAD] [PAD] [PAD] [PAD] [PAD]'"
            ]
          },
          "execution_count": 36,
          "metadata": {},
          "output_type": "execute_result"
        }
      ],
      "source": [
        "' '.join(train_dataset.encodings[0].tokens[0:100])"
      ]
    },
    {
      "cell_type": "markdown",
      "metadata": {
        "id": "hq1M2Et4Y3LB"
      },
      "source": [
        "**Examine a Goodreads review in the Torch `test_dataset` after encoding**"
      ]
    },
    {
      "cell_type": "code",
      "execution_count": 38,
      "metadata": {
        "colab": {
          "base_uri": "https://localhost:8080/",
          "height": 70
        },
        "id": "z65jnjVJ1aVB",
        "outputId": "ddca81c0-fba7-4044-e04a-cffc9bc3b161"
      },
      "outputs": [
        {
          "data": {
            "text/plain": [
              "'[CLS] quiet [SEP] [PAD] [PAD] [PAD] [PAD] [PAD] [PAD] [PAD] [PAD] [PAD] [PAD] [PAD] [PAD] [PAD] [PAD] [PAD] [PAD] [PAD] [PAD] [PAD] [PAD] [PAD] [PAD] [PAD] [PAD] [PAD] [PAD] [PAD] [PAD] [PAD] [PAD] [PAD] [PAD] [PAD] [PAD] [PAD] [PAD] [PAD] [PAD] [PAD] [PAD] [PAD] [PAD] [PAD] [PAD] [PAD] [PAD] [PAD] [PAD] [PAD] [PAD] [PAD] [PAD] [PAD] [PAD] [PAD] [PAD] [PAD] [PAD] [PAD] [PAD] [PAD]'"
            ]
          },
          "execution_count": 38,
          "metadata": {},
          "output_type": "execute_result"
        }
      ],
      "source": [
        "' '.join(test_dataset.encodings[1].tokens[0:100])"
      ]
    },
    {
      "cell_type": "markdown",
      "metadata": {
        "id": "OkVgFcbCqKSu"
      },
      "source": [
        "<br><br>\n",
        "\n",
        "## **Load pre-trained BERT model**"
      ]
    },
    {
      "cell_type": "markdown",
      "metadata": {
        "id": "X2pSuFUVaDhP"
      },
      "source": [
        "Here we load a pre-trained DistilBERT model and send it to CUDA.\n",
        "\n",
        "**Note:** If you decide to repeat fine-tuning after already running the following cells, make sure that you re-run this cell to re-load the original pre-trained model before fine-tuning again."
      ]
    },
    {
      "cell_type": "code",
      "execution_count": 39,
      "metadata": {
        "colab": {
          "base_uri": "https://localhost:8080/",
          "height": 104,
          "referenced_widgets": [
            "bc7df93cbf144e2b864f9832eba39ac1",
            "d78db7ab015e4c50a582bc1e132f1da1",
            "2e70997843ac40ce9e8527f8daf3dc71",
            "8bb26362320749a18e1367d531162ced",
            "a68e295e0b7046e1b38b50184480d55a",
            "15aeb7b2a0804ac29eda018767ed0f4e",
            "dae7d044958e403fb9aced5e0afb2101",
            "4c3a4a4eb9c945c7b6db5c28787a85ae",
            "103a100ed47e492f8d1d7a706a9a3a80",
            "e7621a1f451b4dcfa4e8025117fcc276",
            "7725c4a39dd641369424fa2ceb83222a"
          ]
        },
        "id": "a7k75REXp7UJ",
        "outputId": "25758cfe-593a-491f-ad41-3fca14e7c056"
      },
      "outputs": [
        {
          "name": "stderr",
          "output_type": "stream",
          "text": [
            "Some weights of DistilBertForSequenceClassification were not initialized from the model checkpoint at distilbert-base-cased and are newly initialized: ['classifier.bias', 'classifier.weight', 'pre_classifier.bias', 'pre_classifier.weight']\n",
            "You should probably TRAIN this model on a down-stream task to be able to use it for predictions and inference.\n"
          ]
        }
      ],
      "source": [
        "# The model_name needs to match the name used for the tokenizer above.\n",
        "model = DistilBertForSequenceClassification.from_pretrained(model_name, num_labels=len(id2label)).to(device_name)"
      ]
    },
    {
      "cell_type": "markdown",
      "metadata": {
        "id": "VRQZuqcAqQNI"
      },
      "source": [
        "<br><br>\n",
        "\n",
        "## **Set the BERT fine-tuning parameters**\n",
        "\n",
        "These are the arguments we'll set in the HuggingFace TrainingArguments objects, which we'll then pass to the HuggingFace Trainer object. There are many more possible arguments, but here we highlight the basics and some common gotchas.\n",
        "\n",
        "When training your own model, you should search over these parameters to find the best settings for your particular dataset. You should use a held-out set of validation data for this step."
      ]
    },
    {
      "cell_type": "code",
      "execution_count": 40,
      "metadata": {
        "colab": {
          "base_uri": "https://localhost:8080/"
        },
        "id": "IS6XMf8_2T8N",
        "outputId": "1f8766ef-aa12-4742-9fe5-f087184dccf6"
      },
      "outputs": [
        {
          "name": "stdout",
          "output_type": "stream",
          "text": [
            "4.53.3\n"
          ]
        }
      ],
      "source": [
        "import transformers\n",
        "print(transformers.__version__)\n"
      ]
    },
    {
      "cell_type": "markdown",
      "metadata": {
        "id": "yYOaH9AhbCD_"
      },
      "source": [
        "| Parameter | Explanation |\n",
        "|-----------| ------------|\n",
        "| num_train_epochs | total number of training epochs (how many times to pass through the entire dataset; too much can cause overfitting) |\n",
        "| per_device_train_batch_size | batch size per device during training |\n",
        "| per_device_eval_batch_size |  batch size for evaluation |\n",
        "|  warmup_steps |  number of warmup steps for learning rate scheduler (set lower because of small dataset size) |\n",
        "| weight_decay | strength of weight decay (reduces size of weights, like regularization) |\n",
        "| output_dir | output directory for the fine-tuned model and configuration files |\n",
        "| logging_dir | directory for storing logs |\n",
        "| logging_steps | how often to print logging output (so that we can stop training early if the loss isn't going down) |\n",
        "| evaluation_strategy | evaluate while training so that we can see the accuracy going up |"
      ]
    },
    {
      "cell_type": "code",
      "execution_count": 41,
      "metadata": {
        "id": "3idCswBVg6v_"
      },
      "outputs": [],
      "source": [
        "training_args = TrainingArguments(\n",
        "    num_train_epochs=3,              # total number of training epochs\n",
        "    per_device_train_batch_size=16,  # batch size per device during training\n",
        "    per_device_eval_batch_size=20,   # batch size for evaluation\n",
        "    learning_rate=5e-5,              # initial learning rate for Adam optimizer\n",
        "    warmup_steps=100,                # number of warmup steps for learning rate scheduler (set lower because of small dataset size)\n",
        "    weight_decay=0.01,               # strength of weight decay\n",
        "    output_dir='./models/results',          # output directory\n",
        "    logging_dir='./logs',            # directory for storing logs\n",
        "    logging_steps=100,               # number of steps to output logging (set lower because of small dataset size)\n",
        "    eval_strategy='steps',     # evaluate during fine-tuning so that we can see progress\n",
        "    report_to=[],  # Disables wandb logging\n",
        ")"
      ]
    },
    {
      "cell_type": "markdown",
      "metadata": {
        "id": "8Pb3xtidn-HJ"
      },
      "source": [
        "<br><br>\n",
        "\n",
        "## **Fine-tune the BERT model**"
      ]
    },
    {
      "cell_type": "markdown",
      "metadata": {
        "id": "z_SN_oGLV8Vw"
      },
      "source": [
        "First, we define a custom evaluation function that returns the accuracy. You could modify this function to return precision, recall, F1, and/or other metrics."
      ]
    },
    {
      "cell_type": "code",
      "execution_count": 42,
      "metadata": {
        "id": "pNIt7fcnqUCp"
      },
      "outputs": [],
      "source": [
        "def compute_metrics(pred):\n",
        "  labels = pred.label_ids\n",
        "  preds = pred.predictions.argmax(-1)\n",
        "  acc = accuracy_score(labels, preds)\n",
        "  return {\n",
        "      'accuracy': acc,\n",
        "  }"
      ]
    },
    {
      "cell_type": "markdown",
      "metadata": {
        "id": "g9xl5QLmWsAw"
      },
      "source": [
        "Then we create a HuggingFace `Trainer` object using the `TrainingArguments` object that we created above. We also send our `compute_metrics` function to the `Trainer` object, along with our test and train datasets.\n",
        "\n",
        "**Note:** This is what we've been aiming for this whole time! All the work of tokenizing, creating datasets, and setting the training arguments was for this cell."
      ]
    },
    {
      "cell_type": "code",
      "execution_count": 43,
      "metadata": {
        "id": "fgc8FS50qV0_"
      },
      "outputs": [],
      "source": [
        "trainer = Trainer(\n",
        "    model=model,                         # the instantiated 🤗 Transformers model to be trained\n",
        "    args=training_args,                  # training arguments, defined above\n",
        "    train_dataset=train_dataset,         # training dataset\n",
        "    eval_dataset=test_dataset,           # evaluation dataset (usually a validation set; here we just send our test set)\n",
        "    compute_metrics=compute_metrics      # our custom evaluation function\n",
        ")"
      ]
    },
    {
      "cell_type": "markdown",
      "metadata": {
        "id": "Mo5QVLYjXGCN"
      },
      "source": [
        "Time to finally fine-tune!\n",
        "\n",
        "Be patient; if you've set everything in Colab to use GPUs, then it should only take a minute or two to run, but if you're running on CPU, it can take hours.\n",
        "\n",
        "After every 10 steps (as we specified in the TrainingArguments object), the trainer will output the current state of the model, including the training loss, validation (\"test\") loss, and accuracy (from our `compute_metrics` function).\n",
        "\n",
        "You should see the loss going down and the accuracy going up. If instead they are staying the same or oscillating, you probably need to change the fine-tuning parameters."
      ]
    },
    {
      "cell_type": "code",
      "execution_count": 44,
      "metadata": {
        "id": "Od9TxpEj4tBZ"
      },
      "outputs": [],
      "source": [
        "# Turn off weights and biases logging, which requires an API key\n",
        "\n",
        "import os\n",
        "os.environ[\"WANDB_DISABLED\"] = \"true\""
      ]
    },
    {
      "cell_type": "code",
      "execution_count": 45,
      "metadata": {
        "colab": {
          "base_uri": "https://localhost:8080/",
          "height": 486
        },
        "id": "W64JwriVqcmk",
        "outputId": "06346c9b-a6da-4b13-e6da-ac836e152f94"
      },
      "outputs": [
        {
          "data": {
            "text/html": [
              "\n",
              "    <div>\n",
              "      \n",
              "      <progress value='2160' max='2160' style='width:300px; height:20px; vertical-align: middle;'></progress>\n",
              "      [2160/2160 05:27, Epoch 3/3]\n",
              "    </div>\n",
              "    <table border=\"1\" class=\"dataframe\">\n",
              "  <thead>\n",
              " <tr style=\"text-align: left;\">\n",
              "      <th>Step</th>\n",
              "      <th>Training Loss</th>\n",
              "      <th>Validation Loss</th>\n",
              "      <th>Accuracy</th>\n",
              "    </tr>\n",
              "  </thead>\n",
              "  <tbody>\n",
              "    <tr>\n",
              "      <td>100</td>\n",
              "      <td>3.806700</td>\n",
              "      <td>2.959271</td>\n",
              "      <td>0.387357</td>\n",
              "    </tr>\n",
              "    <tr>\n",
              "      <td>200</td>\n",
              "      <td>2.281400</td>\n",
              "      <td>1.646556</td>\n",
              "      <td>0.651648</td>\n",
              "    </tr>\n",
              "    <tr>\n",
              "      <td>300</td>\n",
              "      <td>1.456600</td>\n",
              "      <td>1.141945</td>\n",
              "      <td>0.744116</td>\n",
              "    </tr>\n",
              "    <tr>\n",
              "      <td>400</td>\n",
              "      <td>1.048100</td>\n",
              "      <td>0.901862</td>\n",
              "      <td>0.784129</td>\n",
              "    </tr>\n",
              "    <tr>\n",
              "      <td>500</td>\n",
              "      <td>0.947700</td>\n",
              "      <td>0.768087</td>\n",
              "      <td>0.814391</td>\n",
              "    </tr>\n",
              "    <tr>\n",
              "      <td>600</td>\n",
              "      <td>0.798500</td>\n",
              "      <td>0.677624</td>\n",
              "      <td>0.833557</td>\n",
              "    </tr>\n",
              "    <tr>\n",
              "      <td>700</td>\n",
              "      <td>0.734700</td>\n",
              "      <td>0.631893</td>\n",
              "      <td>0.839610</td>\n",
              "    </tr>\n",
              "    <tr>\n",
              "      <td>800</td>\n",
              "      <td>0.497500</td>\n",
              "      <td>0.630629</td>\n",
              "      <td>0.832213</td>\n",
              "    </tr>\n",
              "    <tr>\n",
              "      <td>900</td>\n",
              "      <td>0.426400</td>\n",
              "      <td>0.574455</td>\n",
              "      <td>0.850706</td>\n",
              "    </tr>\n",
              "    <tr>\n",
              "      <td>1000</td>\n",
              "      <td>0.420300</td>\n",
              "      <td>0.550557</td>\n",
              "      <td>0.857431</td>\n",
              "    </tr>\n",
              "    <tr>\n",
              "      <td>1100</td>\n",
              "      <td>0.439300</td>\n",
              "      <td>0.546759</td>\n",
              "      <td>0.860457</td>\n",
              "    </tr>\n",
              "    <tr>\n",
              "      <td>1200</td>\n",
              "      <td>0.380500</td>\n",
              "      <td>0.540108</td>\n",
              "      <td>0.860794</td>\n",
              "    </tr>\n",
              "    <tr>\n",
              "      <td>1300</td>\n",
              "      <td>0.405800</td>\n",
              "      <td>0.520095</td>\n",
              "      <td>0.866174</td>\n",
              "    </tr>\n",
              "    <tr>\n",
              "      <td>1400</td>\n",
              "      <td>0.328800</td>\n",
              "      <td>0.510576</td>\n",
              "      <td>0.872898</td>\n",
              "    </tr>\n",
              "    <tr>\n",
              "      <td>1500</td>\n",
              "      <td>0.295200</td>\n",
              "      <td>0.511594</td>\n",
              "      <td>0.871553</td>\n",
              "    </tr>\n",
              "    <tr>\n",
              "      <td>1600</td>\n",
              "      <td>0.182300</td>\n",
              "      <td>0.501769</td>\n",
              "      <td>0.873907</td>\n",
              "    </tr>\n",
              "    <tr>\n",
              "      <td>1700</td>\n",
              "      <td>0.208800</td>\n",
              "      <td>0.505659</td>\n",
              "      <td>0.875588</td>\n",
              "    </tr>\n",
              "    <tr>\n",
              "      <td>1800</td>\n",
              "      <td>0.185300</td>\n",
              "      <td>0.497213</td>\n",
              "      <td>0.875925</td>\n",
              "    </tr>\n",
              "    <tr>\n",
              "      <td>1900</td>\n",
              "      <td>0.165600</td>\n",
              "      <td>0.499522</td>\n",
              "      <td>0.877606</td>\n",
              "    </tr>\n",
              "    <tr>\n",
              "      <td>2000</td>\n",
              "      <td>0.207500</td>\n",
              "      <td>0.495509</td>\n",
              "      <td>0.877606</td>\n",
              "    </tr>\n",
              "    <tr>\n",
              "      <td>2100</td>\n",
              "      <td>0.159000</td>\n",
              "      <td>0.494482</td>\n",
              "      <td>0.878278</td>\n",
              "    </tr>\n",
              "  </tbody>\n",
              "</table><p>"
            ],
            "text/plain": [
              "<IPython.core.display.HTML object>"
            ]
          },
          "metadata": {},
          "output_type": "display_data"
        },
        {
          "data": {
            "text/plain": [
              "TrainOutput(global_step=2160, training_loss=0.7173837383588155, metrics={'train_runtime': 331.199, 'train_samples_per_second': 104.294, 'train_steps_per_second': 6.522, 'total_flos': 384683856858000.0, 'train_loss': 0.7173837383588155, 'epoch': 3.0})"
            ]
          },
          "execution_count": 45,
          "metadata": {},
          "output_type": "execute_result"
        }
      ],
      "source": [
        "trainer.train()"
      ]
    },
    {
      "cell_type": "markdown",
      "metadata": {
        "id": "kXeIZ_LFqeps"
      },
      "source": [
        "<br><br>\n",
        "\n",
        "## **Save fine-tuned model**\n",
        "\n",
        "The following cell will save the model and its configuration files to a directory in Colab. To preserve this model for future use, you should download the model to your computer."
      ]
    },
    {
      "cell_type": "code",
      "execution_count": 46,
      "metadata": {
        "id": "kxkDWDfvqeAo"
      },
      "outputs": [],
      "source": [
        "trainer.save_model(pt_model_path)"
      ]
    },
    {
      "cell_type": "markdown",
      "metadata": {
        "id": "epiLftYkZrzc"
      },
      "source": [
        "(Optional) If you've already fine-tuned and saved the model, you can reload it using the following line. You don't have to run fine-tuning every time you want to evaluate."
      ]
    },
    {
      "cell_type": "code",
      "execution_count": null,
      "metadata": {
        "id": "9A54QySLrO5I"
      },
      "outputs": [],
      "source": [
        "# trainer = DistilBertForSequenceClassification.from_pretrained(cached_model_directory_name)"
      ]
    },
    {
      "cell_type": "markdown",
      "metadata": {
        "id": "JpzV4hFsLmZ6"
      },
      "source": [
        "<br><br>\n",
        "\n",
        "## **Evaluate fine-tuned model**"
      ]
    },
    {
      "cell_type": "markdown",
      "metadata": {
        "id": "-IvfhrBtYYcz"
      },
      "source": [
        "The following function of the `Trainer` object will run the built-in evaluation, including our `compute_metrics` function."
      ]
    },
    {
      "cell_type": "code",
      "execution_count": 47,
      "metadata": {
        "colab": {
          "base_uri": "https://localhost:8080/",
          "height": 141
        },
        "id": "dshtTH0WLtM1",
        "outputId": "19456bf5-c703-40bc-950f-e8203adf3ecd"
      },
      "outputs": [
        {
          "data": {
            "text/html": [],
            "text/plain": [
              "<IPython.core.display.HTML object>"
            ]
          },
          "metadata": {},
          "output_type": "display_data"
        },
        {
          "data": {
            "text/plain": [
              "{'eval_loss': 0.4943583607673645,\n",
              " 'eval_accuracy': 0.8782784129119031,\n",
              " 'eval_runtime': 6.9661,\n",
              " 'eval_samples_per_second': 426.927,\n",
              " 'eval_steps_per_second': 21.389,\n",
              " 'epoch': 3.0}"
            ]
          },
          "execution_count": 47,
          "metadata": {},
          "output_type": "execute_result"
        }
      ],
      "source": [
        "trainer.evaluate()"
      ]
    },
    {
      "cell_type": "markdown",
      "metadata": {
        "id": "ILJGLcCjYhPt"
      },
      "source": [
        "But we might want to do more fine-grained analysis of the model, so we extract the predicted labels."
      ]
    },
    {
      "cell_type": "code",
      "execution_count": 48,
      "metadata": {
        "colab": {
          "base_uri": "https://localhost:8080/",
          "height": 17
        },
        "id": "v_E8oVjeLuv2",
        "outputId": "364fe313-8477-49d0-b1d7-661bc6ee40d0"
      },
      "outputs": [],
      "source": [
        "predicted_results = trainer.predict(test_dataset)"
      ]
    },
    {
      "cell_type": "code",
      "execution_count": 49,
      "metadata": {
        "colab": {
          "base_uri": "https://localhost:8080/"
        },
        "id": "WUYGfzczOuJE",
        "outputId": "ab8f601a-a6e8-4a78-a7f0-30a3b93317e9"
      },
      "outputs": [
        {
          "data": {
            "text/plain": [
              "(2974, 60)"
            ]
          },
          "execution_count": 49,
          "metadata": {},
          "output_type": "execute_result"
        }
      ],
      "source": [
        "predicted_results.predictions.shape"
      ]
    },
    {
      "cell_type": "code",
      "execution_count": 50,
      "metadata": {
        "id": "hqUTa5irLyN8"
      },
      "outputs": [],
      "source": [
        "predicted_labels = predicted_results.predictions.argmax(-1) # Get the highest probability prediction\n",
        "predicted_labels = predicted_labels.flatten().tolist()      # Flatten the predictions into a 1D list\n",
        "predicted_labels = [id2label[l] for l in predicted_labels]  # Convert from integers back to strings for readability"
      ]
    },
    {
      "cell_type": "code",
      "execution_count": 51,
      "metadata": {
        "colab": {
          "base_uri": "https://localhost:8080/"
        },
        "id": "Y2jtqnJbPMpu",
        "outputId": "60859cc9-675f-4818-8160-77887e00631d"
      },
      "outputs": [
        {
          "data": {
            "text/plain": [
              "2974"
            ]
          },
          "execution_count": 51,
          "metadata": {},
          "output_type": "execute_result"
        }
      ],
      "source": [
        "len(predicted_labels)"
      ]
    },
    {
      "cell_type": "code",
      "execution_count": 56,
      "metadata": {
        "colab": {
          "base_uri": "https://localhost:8080/"
        },
        "id": "qVcMU45fLzli",
        "outputId": "9f4be3a7-5924-483d-bee8-c9f0f75a3e30"
      },
      "outputs": [
        {
          "name": "stdout",
          "output_type": "stream",
          "text": [
            "                          precision    recall  f1-score   support\n",
            "\n",
            "             alarm_query       0.97      0.97      0.97        34\n",
            "            alarm_remove       0.95      0.95      0.95        21\n",
            "               alarm_set       0.93      0.95      0.94        41\n",
            "       audio_volume_down       0.83      0.91      0.87        11\n",
            "       audio_volume_mute       0.86      0.94      0.90        32\n",
            "      audio_volume_other       1.00      0.17      0.29         6\n",
            "         audio_volume_up       0.71      0.92      0.80        13\n",
            "          calendar_query       0.82      0.85      0.83       126\n",
            "         calendar_remove       0.90      0.97      0.94        67\n",
            "            calendar_set       0.92      0.92      0.92       209\n",
            "          cooking_recipe       0.92      0.92      0.92        72\n",
            "        datetime_convert       0.69      0.73      0.71        15\n",
            "          datetime_query       0.93      0.92      0.93        88\n",
            "        email_addcontact       0.62      0.83      0.71        12\n",
            "             email_query       0.96      0.93      0.94       119\n",
            "      email_querycontact       0.85      0.88      0.87        26\n",
            "         email_sendemail       0.96      0.94      0.95       114\n",
            "           general_greet       0.50      1.00      0.67         1\n",
            "            general_joke       0.95      0.95      0.95        19\n",
            "          general_quirky       0.65      0.63      0.64       169\n",
            "            iot_cleaning       0.96      0.92      0.94        26\n",
            "              iot_coffee       0.97      1.00      0.99        36\n",
            "     iot_hue_lightchange       0.92      0.94      0.93        36\n",
            "        iot_hue_lightdim       0.87      0.95      0.91        21\n",
            "        iot_hue_lightoff       0.95      0.88      0.92        43\n",
            "         iot_hue_lighton       0.33      0.33      0.33         3\n",
            "         iot_hue_lightup       0.86      0.93      0.89        27\n",
            "            iot_wemo_off       0.93      0.78      0.85        18\n",
            "             iot_wemo_on       0.90      0.90      0.90        10\n",
            "       lists_createoradd       0.86      0.92      0.89        39\n",
            "             lists_query       0.93      0.82      0.88        51\n",
            "            lists_remove       0.92      0.87      0.89        52\n",
            "       music_dislikeness       1.00      0.25      0.40         4\n",
            "          music_likeness       0.88      0.83      0.86        36\n",
            "             music_query       0.94      0.83      0.88        35\n",
            "          music_settings       0.67      0.33      0.44         6\n",
            "              news_query       0.82      0.84      0.83       124\n",
            "          play_audiobook       0.76      0.78      0.77        41\n",
            "               play_game       0.90      0.80      0.85        35\n",
            "              play_music       0.87      0.89      0.88       176\n",
            "           play_podcasts       0.97      0.90      0.93        63\n",
            "              play_radio       0.83      0.96      0.89        72\n",
            "             qa_currency       0.97      0.95      0.96        39\n",
            "           qa_definition       0.92      0.86      0.89        57\n",
            "              qa_factoid       0.82      0.82      0.82       141\n",
            "                qa_maths       0.95      0.84      0.89        25\n",
            "                qa_stock       0.83      0.92      0.87        26\n",
            "   recommendation_events       0.88      0.81      0.84        43\n",
            "recommendation_locations       0.81      0.97      0.88        31\n",
            "   recommendation_movies       0.82      0.90      0.86        20\n",
            "             social_post       0.97      0.94      0.96        81\n",
            "            social_query       0.88      0.84      0.86        25\n",
            "          takeaway_order       0.83      0.86      0.84        22\n",
            "          takeaway_query       0.90      0.80      0.85        35\n",
            "         transport_query       0.88      0.82      0.85        51\n",
            "          transport_taxi       0.96      1.00      0.98        23\n",
            "        transport_ticket       1.00      0.94      0.97        35\n",
            "       transport_traffic       0.79      1.00      0.88        15\n",
            "           weather_query       0.92      0.96      0.94       156\n",
            "\n",
            "                accuracy                           0.88      2974\n",
            "               macro avg       0.87      0.85      0.85      2974\n",
            "            weighted avg       0.88      0.88      0.88      2974\n",
            "\n"
          ]
        }
      ],
      "source": [
        "test_labels = [id2label[y] for y in test_labels_encoded]\n",
        "print(classification_report(test_labels,\n",
        "                            predicted_labels))"
      ]
    },
    {
      "cell_type": "markdown",
      "metadata": {
        "id": "ddk-iKTQF-K3"
      },
      "source": [
        "<br><br>\n",
        "\n",
        "## **Pull out correct and incorrect classifications for examination**\n",
        "\n",
        "Let's use our predicted labels for some analysis!\n",
        "\n",
        "Now that we've fine-tuned and pulled out our predicted labels, the BERT part of this tutorial is done. You can now use the predicted labels in the same way you would use any set of predicted labels from any classification model. We'll show some examples here.\n",
        "\n",
        "First, let's print out some example predictions that were correct."
      ]
    },
    {
      "cell_type": "code",
      "execution_count": 57,
      "metadata": {
        "colab": {
          "base_uri": "https://localhost:8080/"
        },
        "id": "l7KrvGuZkDAV",
        "outputId": "e9fbdbee-f778-442f-a0e6-eed2914554d2"
      },
      "outputs": [
        {
          "name": "stdout",
          "output_type": "stream",
          "text": [
            "LABEL: social_post\n",
            "REVIEW TEXT: post a new status on facebook saying that i am enjoying the nice weather ...\n",
            "\n",
            "LABEL: play_music\n",
            "REVIEW TEXT: olly i need to hear some sad songs today ...\n",
            "\n",
            "LABEL: general_joke\n",
            "REVIEW TEXT: what's a good joke ...\n",
            "\n",
            "LABEL: music_query\n",
            "REVIEW TEXT: title of song ...\n",
            "\n",
            "LABEL: alarm_set\n",
            "REVIEW TEXT: please set my alarm for five p. m. ...\n",
            "\n",
            "LABEL: takeaway_order\n",
            "REVIEW TEXT: call for take-out ...\n",
            "\n",
            "LABEL: email_sendemail\n",
            "REVIEW TEXT: help is to be sent only to jane ...\n",
            "\n",
            "LABEL: qa_factoid\n",
            "REVIEW TEXT: which is the highest peak in the world ...\n",
            "\n",
            "LABEL: takeaway_query\n",
            "REVIEW TEXT: hows the food order going ...\n",
            "\n",
            "LABEL: qa_factoid\n",
            "REVIEW TEXT: what year did george clooney start acting ...\n",
            "\n",
            "LABEL: cooking_recipe\n",
            "REVIEW TEXT: what is the best oven temperature to roast potatoes ...\n",
            "\n",
            "LABEL: news_query\n",
            "REVIEW TEXT: i want to hear the last news from c. n. n. ...\n",
            "\n",
            "LABEL: iot_cleaning\n",
            "REVIEW TEXT: please start vacuum cleaner ...\n",
            "\n",
            "LABEL: iot_coffee\n",
            "REVIEW TEXT: start coffee at six am ...\n",
            "\n",
            "LABEL: music_settings\n",
            "REVIEW TEXT: please skip two songs ...\n",
            "\n",
            "LABEL: weather_query\n",
            "REVIEW TEXT: have i need to take a sun glass ...\n",
            "\n",
            "LABEL: recommendation_events\n",
            "REVIEW TEXT: what's happening around me ...\n",
            "\n",
            "LABEL: qa_stock\n",
            "REVIEW TEXT: what is the stock price of hdfc ...\n",
            "\n"
          ]
        }
      ],
      "source": [
        "for _true_label, _predicted_label, _text in random.sample(list(zip(test_labels, predicted_labels, test_texts)), 20):\n",
        "  if _true_label == _predicted_label:\n",
        "    print('LABEL:', _true_label)\n",
        "    print('REVIEW TEXT:', _text[:100], '...')\n",
        "    print()"
      ]
    },
    {
      "cell_type": "markdown",
      "metadata": {
        "id": "pW30Z6ynkDPI"
      },
      "source": [
        "Now let's print out some misclassifications."
      ]
    },
    {
      "cell_type": "code",
      "execution_count": 58,
      "metadata": {
        "colab": {
          "base_uri": "https://localhost:8080/"
        },
        "id": "Xmx1RSKDkIpG",
        "outputId": "f94b7100-7a7f-4523-d9a3-717b0c68991e"
      },
      "outputs": [
        {
          "name": "stdout",
          "output_type": "stream",
          "text": [
            "TRUE LABEL: email_addcontact\n",
            "PREDICTED LABEL: email_sendemail\n",
            "REVIEW TEXT: locate the email to giant eagle and put it into my contact list ...\n",
            "\n",
            "TRUE LABEL: lists_remove\n",
            "PREDICTED LABEL: calendar_remove\n",
            "REVIEW TEXT: remove my car payment on my calendar ...\n",
            "\n",
            "TRUE LABEL: general_quirky\n",
            "PREDICTED LABEL: news_query\n",
            "REVIEW TEXT: baseball scores ...\n",
            "\n"
          ]
        }
      ],
      "source": [
        "for _true_label, _predicted_label, _text in random.sample(list(zip(test_labels, predicted_labels, test_texts)), 20):\n",
        "  if _true_label != _predicted_label:\n",
        "    print('TRUE LABEL:', _true_label)\n",
        "    print('PREDICTED LABEL:', _predicted_label)\n",
        "    print('REVIEW TEXT:', _text[:100], '...')\n",
        "    print()"
      ]
    },
    {
      "cell_type": "markdown",
      "metadata": {
        "id": "3MZqyFrckJBB"
      },
      "source": [
        "Finally, let's create some heatmaps to examine misclassification patterns. We could use these patterns to think about similarities and differences between genres, according to book reviewers."
      ]
    },
    {
      "cell_type": "code",
      "execution_count": 59,
      "metadata": {
        "id": "v8yJ3-Z7hLXf"
      },
      "outputs": [],
      "source": [
        "genre_classifications_dict = defaultdict(int)\n",
        "for _true_label, _predicted_label in zip(test_labels, predicted_labels):\n",
        "  genre_classifications_dict[(_true_label, _predicted_label)] += 1\n",
        "\n",
        "dicts_to_plot = []\n",
        "for (_true_genre, _predicted_genre), _count in genre_classifications_dict.items():\n",
        "  dicts_to_plot.append({'True Genre': _true_genre,\n",
        "                        'Predicted Genre': _predicted_genre,\n",
        "                        'Number of Classifications': _count})\n",
        "\n",
        "df_to_plot = pd.DataFrame(dicts_to_plot)\n",
        "df_wide = df_to_plot.pivot_table(index='True Genre',\n",
        "                                 columns='Predicted Genre',\n",
        "                                 values='Number of Classifications')"
      ]
    },
    {
      "cell_type": "code",
      "execution_count": 60,
      "metadata": {
        "colab": {
          "base_uri": "https://localhost:8080/",
          "height": 693
        },
        "id": "wSAgS6tvivvz",
        "outputId": "6ad1a63d-e777-4ce5-b2c4-5e7a377bd108"
      },
      "outputs": [
        {
          "data": {
            "image/png": "[encoded data removed]",
            "text/plain": [
              "<Figure size 900x700 with 2 Axes>"
            ]
          },
          "metadata": {},
          "output_type": "display_data"
        }
      ],
      "source": [
        "plt.figure(figsize=(9,7))\n",
        "sns.set(style='ticks', font_scale=1.2)\n",
        "sns.heatmap(df_wide, linewidths=1, cmap='Purples')\n",
        "plt.xticks(rotation=45, ha='right')\n",
        "plt.tight_layout()\n",
        "plt.show()"
      ]
    },
    {
      "cell_type": "markdown",
      "metadata": {
        "id": "eiukJdYRqyjm"
      },
      "source": [
        "Looks good! We can see that overall, our model is assigning the correct labels for each genre.\n",
        "\n",
        "Now, let's remove the diagonal from the plot to highlight the misclassifications."
      ]
    },
    {
      "cell_type": "code",
      "execution_count": 61,
      "metadata": {
        "id": "O7GJQfYxi3ET"
      },
      "outputs": [],
      "source": [
        "genre_classifications_dict = defaultdict(int)\n",
        "for _true_label, _predicted_label in zip(test_labels, predicted_labels):\n",
        "  if _true_label != _predicted_label: # Remove the diagonal to highlight misclassifications\n",
        "    genre_classifications_dict[(_true_label, _predicted_label)] += 1\n",
        "\n",
        "dicts_to_plot = []\n",
        "for (_true_genre, _predicted_genre), _count in genre_classifications_dict.items():\n",
        "  dicts_to_plot.append({'True Genre': _true_genre,\n",
        "                        'Predicted Genre': _predicted_genre,\n",
        "                        'Number of Classifications': _count})\n",
        "\n",
        "df_to_plot = pd.DataFrame(dicts_to_plot)\n",
        "df_wide = df_to_plot.pivot_table(index='True Genre',\n",
        "                                 columns='Predicted Genre',\n",
        "                                 values='Number of Classifications')"
      ]
    },
    {
      "cell_type": "code",
      "execution_count": 62,
      "metadata": {
        "colab": {
          "base_uri": "https://localhost:8080/",
          "height": 693
        },
        "id": "3oM09JGrjX_y",
        "outputId": "68266e17-b643-40a2-e331-e258908bc4c9"
      },
      "outputs": [
        {
          "data": {
            "image/png": "[encoded data removed]",
            "text/plain": [
              "<Figure size 900x700 with 2 Axes>"
            ]
          },
          "metadata": {},
          "output_type": "display_data"
        }
      ],
      "source": [
        "plt.figure(figsize=(9,7))\n",
        "sns.set(style='ticks', font_scale=1.2)\n",
        "sns.heatmap(df_wide, linewidths=1, cmap='Purples')\n",
        "plt.xticks(rotation=45, ha='right')\n",
        "plt.tight_layout()\n",
        "plt.show()"
      ]
    },
    {
      "cell_type": "markdown",
      "metadata": {
        "id": "w99vVZCVl8g0"
      },
      "source": [
        "There's much more you can do with your own dataset and labels! Classification can be used to apply a small set of labels across a big dataset; to explore misclassifications to better understand users; and much more! We hope you'll use this tutorial in all kinds of creative ways."
      ]
    },
    {
      "cell_type": "markdown",
      "metadata": {},
      "source": [
        "## Evaluate random samples ***"
      ]
    },
    {
      "cell_type": "code",
      "execution_count": 78,
      "metadata": {},
      "outputs": [],
      "source": [
        "import random\n",
        "\n",
        "def evaluate_random_samples(predict_fn, n=10):\n",
        "    \"\"\"\n",
        "    predict_fn: hàm nhận list[str] -> list[str] (trả về nhãn dự đoán)\n",
        "    n: số sample muốn test\n",
        "    \"\"\"\n",
        "    pairs = list(zip(valid_labels, valid_texts))\n",
        "    random.shuffle(pairs)\n",
        "\n",
        "    for label, text in pairs[:n]:\n",
        "        predicted = predict_fn([text])[0]\n",
        "        expected = id2label[label]\n",
        "\n",
        "        print(f\"Text: {text}\")\n",
        "        print(f\"Predicted: {predicted}\")\n",
        "        print(f\"Expected : {expected}\")\n",
        "        print(\"✅\" if predicted == expected else \"❌\")\n",
        "        print(\"-\" * 10)\n"
      ]
    },
    {
      "cell_type": "markdown",
      "metadata": {
        "id": "W0c3eS25mJ6U"
      },
      "source": [
        "# PT to TFLite using Optimum-cli"
      ]
    },
    {
      "cell_type": "markdown",
      "metadata": {},
      "source": [
        "## Optimum converter"
      ]
    },
    {
      "cell_type": "code",
      "execution_count": null,
      "metadata": {
        "colab": {
          "base_uri": "https://localhost:8080/"
        },
        "id": "ZEnxI21djZXT",
        "outputId": "ad42064f-be36-4b3e-bfe6-a801b29b4790"
      },
      "outputs": [],
      "source": [
        "!pip install optimum[exporters] --upgrade\n",
        "!optimum-cli --help\n",
        "# python3 alias need to setup\n"
      ]
    },
    {
      "cell_type": "code",
      "execution_count": null,
      "metadata": {},
      "outputs": [],
      "source": [
        "!optimum-cli export tflite --model ./distilbert-reviews-genres --task text-classification --sequence_length 512 \"models/tflite-model-optimum\""
      ]
    },
    {
      "cell_type": "markdown",
      "metadata": {},
      "source": [
        "## Inference TFLite Op"
      ]
    },
    {
      "cell_type": "code",
      "execution_count": null,
      "metadata": {
        "colab": {
          "base_uri": "https://localhost:8080/"
        },
        "id": "kJq6Q0PUclJp",
        "outputId": "ade477b3-1d6e-48b4-93a0-c0ff54fa6a68"
      },
      "outputs": [
        {
          "name": "stderr",
          "output_type": "stream",
          "text": [
            "d:\\project\\massive_finetune\\venv\\Lib\\site-packages\\tensorflow\\lite\\python\\interpreter.py:457: UserWarning:     Warning: tf.lite.Interpreter is deprecated and is scheduled for deletion in\n",
            "    TF 2.20. Please use the LiteRT interpreter from the ai_edge_litert package.\n",
            "    See the [migration guide](https://ai.google.dev/edge/litert/migration)\n",
            "    for details.\n",
            "    \n",
            "  warnings.warn(_INTERPRETER_DELETION_WARNING)\n"
          ]
        },
        {
          "name": "stdout",
          "output_type": "stream",
          "text": [
            "Expected dtype: <class 'numpy.int64'>\n",
            "Expected dtype: <class 'numpy.int64'>\n",
            "Text: A romantic story between two star-crossed lovers.\n",
            "Predicted label: ['fantasy_paranormal']\n",
            "\n",
            "Text: A tale of vampires and magical adventures.\n",
            "Predicted label: ['comics_graphic']\n",
            "\n",
            "Text: Roses are red, violets are blue, this poem is for you.\n",
            "Predicted label: ['children']\n",
            "\n",
            "Text: Fun stories and illustrations for children.\n",
            "Predicted label: ['history_biography']\n",
            "\n",
            "Text: A coming-of-age story about a young adult finding themselves.\n",
            "Predicted label: ['history_biography']\n",
            "\n",
            "Text: Detectives chase a cunning criminal through the city.\n",
            "Predicted label: ['romance']\n",
            "\n",
            "Text: A comic book adventure with superheroes and villains.\n",
            "Predicted label: ['poetry']\n",
            "\n",
            "Text: A detailed biography of Abraham Lincoln and his presidency.\n",
            "Predicted label: ['mystery_thriller_crime']\n",
            "\n",
            "Text: Two lovers navigate a complicated relationship in Paris.\n",
            "Predicted label: ['fantasy_paranormal']\n",
            "\n",
            "Text: A wizard battles dark forces in a haunted castle.\n",
            "Predicted label: ['comics_graphic']\n",
            "\n",
            "Text: Ode to the stars shining bright in the night sky.\n",
            "Predicted label: ['children']\n",
            "\n",
            "Text: Colorful tales of talking animals and magical forests.\n",
            "Predicted label: ['history_biography']\n",
            "\n",
            "Text: A young adult embarks on a journey of self-discovery.\n",
            "Predicted label: ['history_biography']\n",
            "\n",
            "Text: A thrilling chase as the detective hunts a serial thief.\n",
            "Predicted label: ['romance']\n",
            "\n",
            "Text: Superheroes team up to save the city from a giant robot.\n",
            "Predicted label: ['poetry']\n",
            "\n",
            "Text: An in-depth account of Marie Curie's life and discoveries.\n",
            "Predicted label: ['mystery_thriller_crime']\n",
            "\n"
          ]
        }
      ],
      "source": [
        "\n",
        "# ==== Load TFLite model ====\n",
        "interpreter = tf.lite.Interpreter(model_path=\"models/tflite-model-optimum\")\n",
        "\n",
        "\n",
        "interpreter.allocate_tensors()\n",
        "\n",
        "input_details = interpreter.get_input_details()\n",
        "for detail in input_details:\n",
        "    print(f\"Expected dtype: {detail['dtype']}\")\n",
        "\n",
        "output_details = interpreter.get_output_details()\n",
        "def predict_tflite_op(texts):\n",
        "    # texts: list of strings\n",
        "    inputs = tokenizer(\n",
        "        texts,\n",
        "        max_length=max_length,\n",
        "        padding=\"max_length\",\n",
        "        truncation=True,\n",
        "        return_tensors=\"np\"\n",
        "    )\n",
        "\n",
        "    # TFLite model yêu cầu int64\n",
        "    input_ids = inputs[\"input_ids\"].astype(np.int64)         # shape (batch, seq_len)\n",
        "    attention_mask = inputs[\"attention_mask\"].astype(np.int64)\n",
        "\n",
        "    # Set inputs\n",
        "    for detail in input_details:\n",
        "        if \"input_ids\" in detail[\"name\"]:\n",
        "            interpreter.set_tensor(detail[\"index\"], input_ids)\n",
        "        elif \"attention_mask\" in detail[\"name\"]:\n",
        "            interpreter.set_tensor(detail[\"index\"], attention_mask)\n",
        "        else:\n",
        "            interpreter.set_tensor(detail[\"index\"], np.zeros(input_ids.shape, dtype=np.int64))\n",
        "\n",
        "    # Run inference\n",
        "    interpreter.invoke()\n",
        "\n",
        "    # Get output\n",
        "    output_data = interpreter.get_tensor(output_details[0][\"index\"])\n",
        "    preds = np.argmax(output_data, axis=1)\n",
        "\n",
        "    return [id2label[i] for i in preds]\n",
        "\n",
        "# Example\n",
        "for text in tests:\n",
        "    label = predict_tflite_op(text)\n",
        "    print(f\"Text: {text}\\nPredicted label: {label}\\n\")\n"
      ]
    },
    {
      "cell_type": "markdown",
      "metadata": {},
      "source": [
        "## Inference Pytorch"
      ]
    },
    {
      "cell_type": "code",
      "execution_count": 79,
      "metadata": {
        "colab": {
          "base_uri": "https://localhost:8080/"
        },
        "id": "2vpQRnP8hD3A",
        "outputId": "3060435f-36a9-46e0-c691-aa49381102de"
      },
      "outputs": [
        {
          "name": "stdout",
          "output_type": "stream",
          "text": [
            "Text: olly cancel alarms\n",
            "Predicted: alarm_remove\n",
            "Expected : alarm_remove\n",
            "✅\n",
            "----------\n",
            "Text: can you tell me what time is it in new york\n",
            "Predicted: datetime_query\n",
            "Expected : datetime_query\n",
            "✅\n",
            "----------\n",
            "Text: delete the birthday party tomorrow at two p. m.\n",
            "Predicted: calendar_remove\n",
            "Expected : calendar_remove\n",
            "✅\n",
            "----------\n",
            "Text: what do you think of the three laws of robotics\n",
            "Predicted: general_quirky\n",
            "Expected : general_quirky\n",
            "✅\n",
            "----------\n",
            "Text: how long is an earth day\n",
            "Predicted: qa_factoid\n",
            "Expected : qa_factoid\n",
            "✅\n",
            "----------\n",
            "Text: how tall is a giraffe\n",
            "Predicted: qa_factoid\n",
            "Expected : qa_factoid\n",
            "✅\n",
            "----------\n",
            "Text: what time is the evening meeting i have with john\n",
            "Predicted: calendar_query\n",
            "Expected : calendar_query\n",
            "✅\n",
            "----------\n",
            "Text: tell me tom hanks middle name\n",
            "Predicted: qa_factoid\n",
            "Expected : qa_factoid\n",
            "✅\n",
            "----------\n",
            "Text: i'd like you to remember that i like this song\n",
            "Predicted: music_likeness\n",
            "Expected : music_likeness\n",
            "✅\n",
            "----------\n",
            "Text: what is the square root of forty two\n",
            "Predicted: qa_maths\n",
            "Expected : qa_maths\n",
            "✅\n",
            "----------\n"
          ]
        }
      ],
      "source": [
        "import torch\n",
        "from transformers import DistilBertTokenizerFast, DistilBertForSequenceClassification\n",
        "\n",
        "# ==== Load PyTorch model ====\n",
        "pt_model = DistilBertForSequenceClassification.from_pretrained(pt_model_path)\n",
        "pt_model.eval()\n",
        "tokenizer = DistilBertTokenizerFast.from_pretrained(model_name)\n",
        "\n",
        "# ==== Inference function PyTorch ====\n",
        "def predict_pt(texts):\n",
        "    inputs = tokenizer(\n",
        "        texts,\n",
        "        max_length=max_length,\n",
        "        padding=\"max_length\",\n",
        "        truncation=True,\n",
        "        return_tensors=\"pt\"\n",
        "    )\n",
        "    with torch.no_grad():\n",
        "        outputs = pt_model(**inputs)\n",
        "        preds = torch.argmax(outputs.logits, dim=1)\n",
        "    return [id2label[i] for i in preds.tolist()]\n",
        "\n",
        "evaluate_random_samples(predict_pt)\n"
      ]
    },
    {
      "cell_type": "markdown",
      "metadata": {
        "id": "A8Ya523lmaXS"
      },
      "source": [
        "# Transforming PT model to TF and to TFLite"
      ]
    },
    {
      "cell_type": "markdown",
      "metadata": {},
      "source": [
        "## Pytorch to Tensorflow"
      ]
    },
    {
      "cell_type": "code",
      "execution_count": 65,
      "metadata": {
        "colab": {
          "base_uri": "https://localhost:8080/"
        },
        "id": "A3gWlI4EjCYZ",
        "outputId": "2bda2bef-2f54-4325-8788-0b0a168bf7b8"
      },
      "outputs": [
        {
          "name": "stdout",
          "output_type": "stream",
          "text": [
            "WARNING:tensorflow:From d:\\project\\massive_finetune\\venv\\Lib\\site-packages\\tf_keras\\src\\backend.py:873: The name tf.get_default_graph is deprecated. Please use tf.compat.v1.get_default_graph instead.\n",
            "\n"
          ]
        },
        {
          "name": "stderr",
          "output_type": "stream",
          "text": [
            "TensorFlow and JAX classes are deprecated and will be removed in Transformers v5. We recommend migrating to PyTorch classes or pinning your version of Transformers.\n",
            "All PyTorch model weights were used when initializing TFDistilBertForSequenceClassification.\n",
            "\n",
            "All the weights of TFDistilBertForSequenceClassification were initialized from the PyTorch model.\n",
            "If your task is similar to the task the model of the checkpoint was trained on, you can already use TFDistilBertForSequenceClassification for predictions without further training.\n"
          ]
        },
        {
          "name": "stdout",
          "output_type": "stream",
          "text": [
            "WARNING:tensorflow:From d:\\project\\massive_finetune\\venv\\Lib\\site-packages\\tf_keras\\src\\saving\\legacy\\saved_model\\save_impl.py:68: The name tf.logging.warning is deprecated. Please use tf.compat.v1.logging.warning instead.\n",
            "\n"
          ]
        },
        {
          "name": "stderr",
          "output_type": "stream",
          "text": [
            "WARNING:tensorflow:From d:\\project\\massive_finetune\\venv\\Lib\\site-packages\\tf_keras\\src\\saving\\legacy\\saved_model\\save_impl.py:68: The name tf.logging.warning is deprecated. Please use tf.compat.v1.logging.warning instead.\n",
            "\n"
          ]
        },
        {
          "name": "stdout",
          "output_type": "stream",
          "text": [
            "WARNING:tensorflow:Skipping full serialization of TF-Keras layer <tf_keras.src.layers.regularization.dropout.Dropout object at 0x00000160F4BDCB90>, because it is not built.\n"
          ]
        },
        {
          "name": "stderr",
          "output_type": "stream",
          "text": [
            "WARNING:tensorflow:Skipping full serialization of TF-Keras layer <tf_keras.src.layers.regularization.dropout.Dropout object at 0x00000160F4BDCB90>, because it is not built.\n"
          ]
        },
        {
          "name": "stdout",
          "output_type": "stream",
          "text": [
            "WARNING:tensorflow:Skipping full serialization of TF-Keras layer <tf_keras.src.layers.regularization.dropout.Dropout object at 0x00000160F4BDE5D0>, because it is not built.\n"
          ]
        },
        {
          "name": "stderr",
          "output_type": "stream",
          "text": [
            "WARNING:tensorflow:Skipping full serialization of TF-Keras layer <tf_keras.src.layers.regularization.dropout.Dropout object at 0x00000160F4BDE5D0>, because it is not built.\n"
          ]
        },
        {
          "name": "stdout",
          "output_type": "stream",
          "text": [
            "WARNING:tensorflow:Skipping full serialization of TF-Keras layer <tf_keras.src.layers.regularization.dropout.Dropout object at 0x00000160F4BDF750>, because it is not built.\n"
          ]
        },
        {
          "name": "stderr",
          "output_type": "stream",
          "text": [
            "WARNING:tensorflow:Skipping full serialization of TF-Keras layer <tf_keras.src.layers.regularization.dropout.Dropout object at 0x00000160F4BDF750>, because it is not built.\n"
          ]
        },
        {
          "name": "stdout",
          "output_type": "stream",
          "text": [
            "WARNING:tensorflow:Skipping full serialization of TF-Keras layer <tf_keras.src.layers.regularization.dropout.Dropout object at 0x00000160F2BE4910>, because it is not built.\n"
          ]
        },
        {
          "name": "stderr",
          "output_type": "stream",
          "text": [
            "WARNING:tensorflow:Skipping full serialization of TF-Keras layer <tf_keras.src.layers.regularization.dropout.Dropout object at 0x00000160F2BE4910>, because it is not built.\n"
          ]
        },
        {
          "name": "stdout",
          "output_type": "stream",
          "text": [
            "WARNING:tensorflow:Skipping full serialization of TF-Keras layer <tf_keras.src.layers.regularization.dropout.Dropout object at 0x00000160F2BE5A90>, because it is not built.\n"
          ]
        },
        {
          "name": "stderr",
          "output_type": "stream",
          "text": [
            "WARNING:tensorflow:Skipping full serialization of TF-Keras layer <tf_keras.src.layers.regularization.dropout.Dropout object at 0x00000160F2BE5A90>, because it is not built.\n"
          ]
        },
        {
          "name": "stdout",
          "output_type": "stream",
          "text": [
            "WARNING:tensorflow:Skipping full serialization of TF-Keras layer <tf_keras.src.layers.regularization.dropout.Dropout object at 0x00000160F2BE6C10>, because it is not built.\n"
          ]
        },
        {
          "name": "stderr",
          "output_type": "stream",
          "text": [
            "WARNING:tensorflow:Skipping full serialization of TF-Keras layer <tf_keras.src.layers.regularization.dropout.Dropout object at 0x00000160F2BE6C10>, because it is not built.\n"
          ]
        },
        {
          "name": "stdout",
          "output_type": "stream",
          "text": [
            "INFO:tensorflow:Assets written to: ./models/tf-model\\assets\n"
          ]
        },
        {
          "name": "stderr",
          "output_type": "stream",
          "text": [
            "INFO:tensorflow:Assets written to: ./models/tf-model\\assets\n"
          ]
        },
        {
          "name": "stdout",
          "output_type": "stream",
          "text": [
            "✅ PyTorch model đã convert sang TensorFlow SavedModel tại ./models/tf-model\n"
          ]
        }
      ],
      "source": [
        "import tensorflow as tf\n",
        "from transformers import TFAutoModelForSequenceClassification\n",
        "\n",
        "\n",
        "# ==== Load và convert PyTorch model sang TensorFlow ====\n",
        "tf_model = TFAutoModelForSequenceClassification.from_pretrained(pt_model_path, from_pt=True)\n",
        "\n",
        "# ==== Optional: tạo serving signature ====\n",
        "@tf.function(input_signature=[\n",
        "    tf.TensorSpec([None, max_length], tf.int32, name=\"input_ids\"),\n",
        "    tf.TensorSpec([None, max_length], tf.int32, name=\"attention_mask\")\n",
        "])\n",
        "def serving_fn(input_ids, attention_mask):\n",
        "    return tf_model(input_ids=input_ids, attention_mask=attention_mask)\n",
        "\n",
        "# ==== Lưu TF SavedModel với signature ====\n",
        "tf.saved_model.save(tf_model, tf_model_path, signatures={\"serving_default\": serving_fn})\n",
        "\n",
        "print(f\"✅ PyTorch model đã convert sang TensorFlow SavedModel tại {tf_model_path}\")"
      ]
    },
    {
      "cell_type": "markdown",
      "metadata": {
        "id": "ahbbFMGinw3F"
      },
      "source": [
        "## Inference Tensorflow"
      ]
    },
    {
      "cell_type": "code",
      "execution_count": 80,
      "metadata": {
        "id": "P_D1OZI-oAUL"
      },
      "outputs": [
        {
          "name": "stdout",
          "output_type": "stream",
          "text": [
            "Text: play recently added audiobook\n",
            "Predicted: play_audiobook\n",
            "Expected : play_audiobook\n",
            "✅\n",
            "----------\n",
            "Text: closest chipotle\n",
            "Predicted: recommendation_locations\n",
            "Expected : takeaway_order\n",
            "❌\n",
            "----------\n",
            "Text: notify me of the latest news on the stock market\n",
            "Predicted: qa_stock\n",
            "Expected : qa_stock\n",
            "✅\n",
            "----------\n",
            "Text: play next episode\n",
            "Predicted: play_podcasts\n",
            "Expected : play_podcasts\n",
            "✅\n",
            "----------\n",
            "Text: how do i get to brighton\n",
            "Predicted: transport_query\n",
            "Expected : transport_query\n",
            "✅\n",
            "----------\n",
            "Text: tell me about activities in my area this weekend\n",
            "Predicted: recommendation_events\n",
            "Expected : recommendation_events\n",
            "✅\n",
            "----------\n",
            "Text: repeat the last song again\n",
            "Predicted: music_settings\n",
            "Expected : music_settings\n",
            "✅\n",
            "----------\n",
            "Text: olly brighten the lights\n",
            "Predicted: iot_hue_lightup\n",
            "Expected : iot_hue_lightup\n",
            "✅\n",
            "----------\n",
            "Text: i need to buy a train ticket\n",
            "Predicted: transport_ticket\n",
            "Expected : transport_ticket\n",
            "✅\n",
            "----------\n",
            "Text: sports\n",
            "Predicted: news_query\n",
            "Expected : general_quirky\n",
            "❌\n",
            "----------\n"
          ]
        }
      ],
      "source": [
        "import tensorflow as tf\n",
        "from transformers import DistilBertTokenizerFast\n",
        "\n",
        "# ==== Load TF model (SavedModel) ====\n",
        "tf_model = tf.saved_model.load(tf_model_path)\n",
        "\n",
        "# ==== Load tokenizer ====\n",
        "tokenizer = DistilBertTokenizerFast.from_pretrained(model_name)\n",
        "\n",
        "# ==== Inference function TensorFlow ====\n",
        "def predict_tf(texts):\n",
        "    inputs = tokenizer(\n",
        "        texts,\n",
        "        max_length=max_length,\n",
        "        padding=\"max_length\",\n",
        "        truncation=True,\n",
        "        return_tensors=\"tf\"\n",
        "    )\n",
        "    # Call serving_default signature\n",
        "    outputs = tf_model.signatures[\"serving_default\"](\n",
        "        input_ids=inputs[\"input_ids\"],\n",
        "        attention_mask=inputs[\"attention_mask\"]\n",
        "    )\n",
        "    # outputs trả về dict với key như 'logits'\n",
        "    logits = outputs[\"logits\"].numpy()\n",
        "    preds = logits.argmax(axis=1)\n",
        "    return [id2label[i] for i in preds]\n",
        "    \n",
        "evaluate_random_samples(predict_tf)"
      ]
    },
    {
      "cell_type": "markdown",
      "metadata": {
        "id": "-xqlqa2eocGQ"
      },
      "source": [
        "## Tensorflow to TFLite"
      ]
    },
    {
      "cell_type": "code",
      "execution_count": 81,
      "metadata": {
        "id": "IV5cnA9UobJH"
      },
      "outputs": [
        {
          "name": "stdout",
          "output_type": "stream",
          "text": [
            "✅ TF SavedModel đã convert sang TFLite tại ./models/tflite-model/model.tflite\n"
          ]
        }
      ],
      "source": [
        "import tensorflow as tf\n",
        "import numpy as np\n",
        "\n",
        "# ==== Convert ====\n",
        "converter = tf.lite.TFLiteConverter.from_saved_model(tf_model_path)\n",
        "converter.optimizations = [tf.lite.Optimize.DEFAULT]\n",
        "tflite_model = converter.convert()\n",
        "\n",
        "# ==== Save ====\n",
        "with open(tflite_model_path, \"wb\") as f:\n",
        "    f.write(tflite_model)\n",
        "\n",
        "print(f\"✅ TF SavedModel đã convert sang TFLite tại {tflite_model_path}\")"
      ]
    },
    {
      "cell_type": "markdown",
      "metadata": {},
      "source": [
        "## Inference TFLite model"
      ]
    },
    {
      "cell_type": "code",
      "execution_count": 84,
      "metadata": {
        "colab": {
          "base_uri": "https://localhost:8080/"
        },
        "id": "tq9yVLtxolUn",
        "outputId": "3c0dbe74-073d-487f-86fe-e6c1b5bffc44"
      },
      "outputs": [
        {
          "name": "stdout",
          "output_type": "stream",
          "text": [
            "Expected dtype: <class 'numpy.int32'>\n",
            "Expected dtype: <class 'numpy.int32'>\n",
            "Text: play audio\n",
            "Predicted: play_audiobook\n",
            "Expected : play_audiobook\n",
            "✅\n",
            "----------\n",
            "Text: give me the opening stock price of apple\n",
            "Predicted: qa_stock\n",
            "Expected : qa_stock\n",
            "✅\n",
            "----------\n",
            "Text: is there any chinese places in benton are\n",
            "Predicted: recommendation_locations\n",
            "Expected : recommendation_locations\n",
            "✅\n",
            "----------\n",
            "Text: olly remind me i need to be at the library a week from today at five\n",
            "Predicted: calendar_set\n",
            "Expected : calendar_set\n",
            "✅\n",
            "----------\n",
            "Text: what i did at this time\n",
            "Predicted: general_quirky\n",
            "Expected : general_quirky\n",
            "✅\n",
            "----------\n",
            "Text: domino's has takeaway right\n",
            "Predicted: takeaway_query\n",
            "Expected : takeaway_query\n",
            "✅\n",
            "----------\n",
            "Text: read a poem for me\n",
            "Predicted: general_quirky\n",
            "Expected : general_quirky\n",
            "✅\n",
            "----------\n",
            "Text: what does a banana look like\n",
            "Predicted: qa_definition\n",
            "Expected : qa_definition\n",
            "✅\n",
            "----------\n",
            "Text: start my robot vacuum cleaner\n",
            "Predicted: iot_cleaning\n",
            "Expected : iot_cleaning\n",
            "✅\n",
            "----------\n",
            "Text: play the song immediately\n",
            "Predicted: play_music\n",
            "Expected : play_music\n",
            "✅\n",
            "----------\n"
          ]
        }
      ],
      "source": [
        "\n",
        "# ==== Load TFLite model ====\n",
        "interpreter = tf.lite.Interpreter(model_path=tflite_model_path)\n",
        "interpreter.allocate_tensors()\n",
        "input_details = interpreter.get_input_details()\n",
        "output_details = interpreter.get_output_details()\n",
        "\n",
        "for detail in input_details:\n",
        "    print(f\"Expected dtype: {detail['dtype']}\")\n",
        "\n",
        "\n",
        "# ==== Inference function TFLite ====\n",
        "def predict_tflite(texts):\n",
        "    inputs = tokenizer(\n",
        "        texts,\n",
        "        max_length=max_length,\n",
        "        padding=\"max_length\",\n",
        "        truncation=True,\n",
        "        return_tensors=\"np\"\n",
        "    )\n",
        "    input_ids = inputs[\"input_ids\"].astype(np.int32)\n",
        "    attention_mask = inputs[\"attention_mask\"].astype(np.int32)\n",
        "\n",
        "    # Set inputs\n",
        "    for detail in input_details:\n",
        "        if \"input_ids\" in detail[\"name\"]:\n",
        "            interpreter.set_tensor(detail[\"index\"], input_ids)\n",
        "        elif \"attention_mask\" in detail[\"name\"]:\n",
        "            interpreter.set_tensor(detail[\"index\"], attention_mask)\n",
        "\n",
        "    # Run inference\n",
        "    interpreter.invoke()\n",
        "    output_data = interpreter.get_tensor(output_details[0][\"index\"])\n",
        "    preds = np.argmax(output_data, axis=1)\n",
        "    return [id2label[i] for i in preds]\n",
        "\n",
        "evaluate_random_samples(predict_tflite)"
      ]
    },
    {
      "cell_type": "markdown",
      "metadata": {},
      "source": [
        "## Compare model performance"
      ]
    },
    {
      "cell_type": "code",
      "execution_count": 23,
      "metadata": {
        "colab": {
          "base_uri": "https://localhost:8080/"
        },
        "id": "CDoUtemzpWNn",
        "outputId": "4eca9e0f-008e-46a8-f3fb-bc97dcd85983"
      },
      "outputs": [
        {
          "name": "stdout",
          "output_type": "stream",
          "text": [
            "Text: A romantic story between two star-crossed lovers. ✅\n",
            "TFLite label: fantasy_paranormal\n",
            "PyTorch label: fantasy_paranormal\n",
            "Text: A tale of vampires and magical adventures. ✅\n",
            "TFLite label: comics_graphic\n",
            "PyTorch label: comics_graphic\n",
            "Text: Roses are red, violets are blue, this poem is for you. ✅\n",
            "TFLite label: children\n",
            "PyTorch label: children\n",
            "Text: Fun stories and illustrations for children. ✅\n",
            "TFLite label: history_biography\n",
            "PyTorch label: history_biography\n",
            "Text: A coming-of-age story about a young adult finding themselves. ✅\n",
            "TFLite label: history_biography\n",
            "PyTorch label: history_biography\n",
            "Text: Detectives chase a cunning criminal through the city. ✅\n",
            "TFLite label: romance\n",
            "PyTorch label: romance\n",
            "Text: A comic book adventure with superheroes and villains. ✅\n",
            "TFLite label: poetry\n",
            "PyTorch label: poetry\n",
            "Text: A detailed biography of Abraham Lincoln and his presidency. ✅\n",
            "TFLite label: mystery_thriller_crime\n",
            "PyTorch label: mystery_thriller_crime\n",
            "Text: Two lovers navigate a complicated relationship in Paris. ✅\n",
            "TFLite label: fantasy_paranormal\n",
            "PyTorch label: fantasy_paranormal\n",
            "Text: A wizard battles dark forces in a haunted castle. ✅\n",
            "TFLite label: comics_graphic\n",
            "PyTorch label: comics_graphic\n",
            "Text: Ode to the stars shining bright in the night sky. ✅\n",
            "TFLite label: children\n",
            "PyTorch label: children\n",
            "Text: Colorful tales of talking animals and magical forests. ✅\n",
            "TFLite label: history_biography\n",
            "PyTorch label: history_biography\n",
            "Text: A young adult embarks on a journey of self-discovery. ✅\n",
            "TFLite label: history_biography\n",
            "PyTorch label: history_biography\n",
            "Text: A thrilling chase as the detective hunts a serial thief. ✅\n",
            "TFLite label: romance\n",
            "PyTorch label: romance\n",
            "Text: Superheroes team up to save the city from a giant robot. ✅\n",
            "TFLite label: poetry\n",
            "PyTorch label: poetry\n",
            "Text: An in-depth account of Marie Curie's life and discoveries. ✅\n",
            "TFLite label: mystery_thriller_crime\n",
            "PyTorch label: mystery_thriller_crime\n"
          ]
        }
      ],
      "source": [
        "for text in tests:\n",
        "    label_pt =     predict_pt([text])[0]   # PyTorch predict\n",
        "    # label_tf =     predict_tf([text])[0]\n",
        "    label_tflite = predict_tflite([text])[0]  # TFLite predict trả list, lấy phần tử đầu\n",
        "    print(f\"Text: {text} {\"✅\" if label_tflite == label_pt else \"\"}\\nTFLite label: {label_tflite}\\nPyTorch label: {label_pt}\")\n",
        "    # print(f\"Tensor label: {label_tf}\")"
      ]
    }
  ],
  "metadata": {
    "accelerator": "GPU",
    "colab": {
      "provenance": []
    },
    "kernelspec": {
      "display_name": "venv",
      "language": "python",
      "name": "python3"
    },
    "language_info": {
      "codemirror_mode": {
        "name": "ipython",
        "version": 3
      },
      "file_extension": ".py",
      "mimetype": "text/x-python",
      "name": "python",
      "nbconvert_exporter": "python",
      "pygments_lexer": "ipython3",
      "version": "3.13.5"
    },
    "widgets": {
      "application/vnd.jupyter.widget-state+json": {
        "0139852dd380478ba0de7da5d3652539": {
          "model_module": "@jupyter-widgets/controls",
          "model_module_version": "1.5.0",
          "model_name": "HBoxModel",
          "state": {
            "_dom_classes": [],
            "_model_module": "@jupyter-widgets/controls",
            "_model_module_version": "1.5.0",
            "_model_name": "HBoxModel",
            "_view_count": null,
            "_view_module": "@jupyter-widgets/controls",
            "_view_module_version": "1.5.0",
            "_view_name": "HBoxView",
            "box_style": "",
            "children": [
              "IPY_MODEL_ef92cb1d41db4f108adfe83c3b76d858",
              "IPY_MODEL_aaffc37f01e94036bb267b0d6e86188e",
              "IPY_MODEL_faf85a73bedc4d9c8abf0159cc2fb70b"
            ],
            "layout": "IPY_MODEL_7db4314986b04a36af79f015d0e68882"
          }
        },
        "0daad0d19b184e5bb9b0763e1dbca11f": {
          "model_module": "@jupyter-widgets/controls",
          "model_module_version": "1.5.0",
          "model_name": "DescriptionStyleModel",
          "state": {
            "_model_module": "@jupyter-widgets/controls",
            "_model_module_version": "1.5.0",
            "_model_name": "DescriptionStyleModel",
            "_view_count": null,
            "_view_module": "@jupyter-widgets/base",
            "_view_module_version": "1.2.0",
            "_view_name": "StyleView",
            "description_width": ""
          }
        },
        "100f142ef0e3448f850e527390c5d154": {
          "model_module": "@jupyter-widgets/controls",
          "model_module_version": "1.5.0",
          "model_name": "DescriptionStyleModel",
          "state": {
            "_model_module": "@jupyter-widgets/controls",
            "_model_module_version": "1.5.0",
            "_model_name": "DescriptionStyleModel",
            "_view_count": null,
            "_view_module": "@jupyter-widgets/base",
            "_view_module_version": "1.2.0",
            "_view_name": "StyleView",
            "description_width": ""
          }
        },
        "103a100ed47e492f8d1d7a706a9a3a80": {
          "model_module": "@jupyter-widgets/controls",
          "model_module_version": "1.5.0",
          "model_name": "ProgressStyleModel",
          "state": {
            "_model_module": "@jupyter-widgets/controls",
            "_model_module_version": "1.5.0",
            "_model_name": "ProgressStyleModel",
            "_view_count": null,
            "_view_module": "@jupyter-widgets/base",
            "_view_module_version": "1.2.0",
            "_view_name": "StyleView",
            "bar_color": null,
            "description_width": ""
          }
        },
        "15aeb7b2a0804ac29eda018767ed0f4e": {
          "model_module": "@jupyter-widgets/base",
          "model_module_version": "1.2.0",
          "model_name": "LayoutModel",
          "state": {
            "_model_module": "@jupyter-widgets/base",
            "_model_module_version": "1.2.0",
            "_model_name": "LayoutModel",
            "_view_count": null,
            "_view_module": "@jupyter-widgets/base",
            "_view_module_version": "1.2.0",
            "_view_name": "LayoutView",
            "align_content": null,
            "align_items": null,
            "align_self": null,
            "border": null,
            "bottom": null,
            "display": null,
            "flex": null,
            "flex_flow": null,
            "grid_area": null,
            "grid_auto_columns": null,
            "grid_auto_flow": null,
            "grid_auto_rows": null,
            "grid_column": null,
            "grid_gap": null,
            "grid_row": null,
            "grid_template_areas": null,
            "grid_template_columns": null,
            "grid_template_rows": null,
            "height": null,
            "justify_content": null,
            "justify_items": null,
            "left": null,
            "margin": null,
            "max_height": null,
            "max_width": null,
            "min_height": null,
            "min_width": null,
            "object_fit": null,
            "object_position": null,
            "order": null,
            "overflow": null,
            "overflow_x": null,
            "overflow_y": null,
            "padding": null,
            "right": null,
            "top": null,
            "visibility": null,
            "width": null
          }
        },
        "165cc18d27f6428586e7d490e26baef2": {
          "model_module": "@jupyter-widgets/base",
          "model_module_version": "1.2.0",
          "model_name": "LayoutModel",
          "state": {
            "_model_module": "@jupyter-widgets/base",
            "_model_module_version": "1.2.0",
            "_model_name": "LayoutModel",
            "_view_count": null,
            "_view_module": "@jupyter-widgets/base",
            "_view_module_version": "1.2.0",
            "_view_name": "LayoutView",
            "align_content": null,
            "align_items": null,
            "align_self": null,
            "border": null,
            "bottom": null,
            "display": null,
            "flex": null,
            "flex_flow": null,
            "grid_area": null,
            "grid_auto_columns": null,
            "grid_auto_flow": null,
            "grid_auto_rows": null,
            "grid_column": null,
            "grid_gap": null,
            "grid_row": null,
            "grid_template_areas": null,
            "grid_template_columns": null,
            "grid_template_rows": null,
            "height": null,
            "justify_content": null,
            "justify_items": null,
            "left": null,
            "margin": null,
            "max_height": null,
            "max_width": null,
            "min_height": null,
            "min_width": null,
            "object_fit": null,
            "object_position": null,
            "order": null,
            "overflow": null,
            "overflow_x": null,
            "overflow_y": null,
            "padding": null,
            "right": null,
            "top": null,
            "visibility": null,
            "width": null
          }
        },
        "17a55f2db20d42d390021baf2586e9cd": {
          "model_module": "@jupyter-widgets/controls",
          "model_module_version": "1.5.0",
          "model_name": "HBoxModel",
          "state": {
            "_dom_classes": [],
            "_model_module": "@jupyter-widgets/controls",
            "_model_module_version": "1.5.0",
            "_model_name": "HBoxModel",
            "_view_count": null,
            "_view_module": "@jupyter-widgets/controls",
            "_view_module_version": "1.5.0",
            "_view_name": "HBoxView",
            "box_style": "",
            "children": [
              "IPY_MODEL_32bf65dcf34942ce8fce739a8366ed33",
              "IPY_MODEL_a9c03ff1ec8740f2a2b91dc5fe0a5048",
              "IPY_MODEL_82bda4cc48cd4e0b92ebb4ea844814ed"
            ],
            "layout": "IPY_MODEL_5b65bcfd51f44715ad0f848154c6aebf"
          }
        },
        "18a99cc6bda54e869c910be328b48926": {
          "model_module": "@jupyter-widgets/base",
          "model_module_version": "1.2.0",
          "model_name": "LayoutModel",
          "state": {
            "_model_module": "@jupyter-widgets/base",
            "_model_module_version": "1.2.0",
            "_model_name": "LayoutModel",
            "_view_count": null,
            "_view_module": "@jupyter-widgets/base",
            "_view_module_version": "1.2.0",
            "_view_name": "LayoutView",
            "align_content": null,
            "align_items": null,
            "align_self": null,
            "border": null,
            "bottom": null,
            "display": null,
            "flex": null,
            "flex_flow": null,
            "grid_area": null,
            "grid_auto_columns": null,
            "grid_auto_flow": null,
            "grid_auto_rows": null,
            "grid_column": null,
            "grid_gap": null,
            "grid_row": null,
            "grid_template_areas": null,
            "grid_template_columns": null,
            "grid_template_rows": null,
            "height": null,
            "justify_content": null,
            "justify_items": null,
            "left": null,
            "margin": null,
            "max_height": null,
            "max_width": null,
            "min_height": null,
            "min_width": null,
            "object_fit": null,
            "object_position": null,
            "order": null,
            "overflow": null,
            "overflow_x": null,
            "overflow_y": null,
            "padding": null,
            "right": null,
            "top": null,
            "visibility": null,
            "width": null
          }
        },
        "2288d77311aa4bc3bace7de60ff209e5": {
          "model_module": "@jupyter-widgets/base",
          "model_module_version": "1.2.0",
          "model_name": "LayoutModel",
          "state": {
            "_model_module": "@jupyter-widgets/base",
            "_model_module_version": "1.2.0",
            "_model_name": "LayoutModel",
            "_view_count": null,
            "_view_module": "@jupyter-widgets/base",
            "_view_module_version": "1.2.0",
            "_view_name": "LayoutView",
            "align_content": null,
            "align_items": null,
            "align_self": null,
            "border": null,
            "bottom": null,
            "display": null,
            "flex": null,
            "flex_flow": null,
            "grid_area": null,
            "grid_auto_columns": null,
            "grid_auto_flow": null,
            "grid_auto_rows": null,
            "grid_column": null,
            "grid_gap": null,
            "grid_row": null,
            "grid_template_areas": null,
            "grid_template_columns": null,
            "grid_template_rows": null,
            "height": null,
            "justify_content": null,
            "justify_items": null,
            "left": null,
            "margin": null,
            "max_height": null,
            "max_width": null,
            "min_height": null,
            "min_width": null,
            "object_fit": null,
            "object_position": null,
            "order": null,
            "overflow": null,
            "overflow_x": null,
            "overflow_y": null,
            "padding": null,
            "right": null,
            "top": null,
            "visibility": null,
            "width": null
          }
        },
        "23d21a0b3a4641ff83e490e0a5c6305c": {
          "model_module": "@jupyter-widgets/controls",
          "model_module_version": "1.5.0",
          "model_name": "DescriptionStyleModel",
          "state": {
            "_model_module": "@jupyter-widgets/controls",
            "_model_module_version": "1.5.0",
            "_model_name": "DescriptionStyleModel",
            "_view_count": null,
            "_view_module": "@jupyter-widgets/base",
            "_view_module_version": "1.2.0",
            "_view_name": "StyleView",
            "description_width": ""
          }
        },
        "243d4ca33ec748b895a6c7d74ac14e69": {
          "model_module": "@jupyter-widgets/controls",
          "model_module_version": "1.5.0",
          "model_name": "DescriptionStyleModel",
          "state": {
            "_model_module": "@jupyter-widgets/controls",
            "_model_module_version": "1.5.0",
            "_model_name": "DescriptionStyleModel",
            "_view_count": null,
            "_view_module": "@jupyter-widgets/base",
            "_view_module_version": "1.2.0",
            "_view_name": "StyleView",
            "description_width": ""
          }
        },
        "2e70997843ac40ce9e8527f8daf3dc71": {
          "model_module": "@jupyter-widgets/controls",
          "model_module_version": "1.5.0",
          "model_name": "FloatProgressModel",
          "state": {
            "_dom_classes": [],
            "_model_module": "@jupyter-widgets/controls",
            "_model_module_version": "1.5.0",
            "_model_name": "FloatProgressModel",
            "_view_count": null,
            "_view_module": "@jupyter-widgets/controls",
            "_view_module_version": "1.5.0",
            "_view_name": "ProgressView",
            "bar_style": "success",
            "description": "",
            "description_tooltip": null,
            "layout": "IPY_MODEL_4c3a4a4eb9c945c7b6db5c28787a85ae",
            "max": 263260784,
            "min": 0,
            "orientation": "horizontal",
            "style": "IPY_MODEL_103a100ed47e492f8d1d7a706a9a3a80",
            "value": 263260784
          }
        },
        "2e96552c058d41589f340b305ace6a6d": {
          "model_module": "@jupyter-widgets/controls",
          "model_module_version": "1.5.0",
          "model_name": "HBoxModel",
          "state": {
            "_dom_classes": [],
            "_model_module": "@jupyter-widgets/controls",
            "_model_module_version": "1.5.0",
            "_model_name": "HBoxModel",
            "_view_count": null,
            "_view_module": "@jupyter-widgets/controls",
            "_view_module_version": "1.5.0",
            "_view_name": "HBoxView",
            "box_style": "",
            "children": [
              "IPY_MODEL_3be72d37b2264fa386d31dc542ebcd56",
              "IPY_MODEL_f556c071faf146a7ad039dbd207a056d",
              "IPY_MODEL_acc0f7c5fbdb4648b19254c46f0a6845"
            ],
            "layout": "IPY_MODEL_5535c8a12ba54566b25ed71e0976fe6a"
          }
        },
        "30147e45534045449c5a6c9c921d0659": {
          "model_module": "@jupyter-widgets/base",
          "model_module_version": "1.2.0",
          "model_name": "LayoutModel",
          "state": {
            "_model_module": "@jupyter-widgets/base",
            "_model_module_version": "1.2.0",
            "_model_name": "LayoutModel",
            "_view_count": null,
            "_view_module": "@jupyter-widgets/base",
            "_view_module_version": "1.2.0",
            "_view_name": "LayoutView",
            "align_content": null,
            "align_items": null,
            "align_self": null,
            "border": null,
            "bottom": null,
            "display": null,
            "flex": null,
            "flex_flow": null,
            "grid_area": null,
            "grid_auto_columns": null,
            "grid_auto_flow": null,
            "grid_auto_rows": null,
            "grid_column": null,
            "grid_gap": null,
            "grid_row": null,
            "grid_template_areas": null,
            "grid_template_columns": null,
            "grid_template_rows": null,
            "height": null,
            "justify_content": null,
            "justify_items": null,
            "left": null,
            "margin": null,
            "max_height": null,
            "max_width": null,
            "min_height": null,
            "min_width": null,
            "object_fit": null,
            "object_position": null,
            "order": null,
            "overflow": null,
            "overflow_x": null,
            "overflow_y": null,
            "padding": null,
            "right": null,
            "top": null,
            "visibility": null,
            "width": null
          }
        },
        "32bf65dcf34942ce8fce739a8366ed33": {
          "model_module": "@jupyter-widgets/controls",
          "model_module_version": "1.5.0",
          "model_name": "HTMLModel",
          "state": {
            "_dom_classes": [],
            "_model_module": "@jupyter-widgets/controls",
            "_model_module_version": "1.5.0",
            "_model_name": "HTMLModel",
            "_view_count": null,
            "_view_module": "@jupyter-widgets/controls",
            "_view_module_version": "1.5.0",
            "_view_name": "HTMLView",
            "description": "",
            "description_tooltip": null,
            "layout": "IPY_MODEL_c2654fcb0de54a05bff9cb15228648f8",
            "placeholder": "​",
            "style": "IPY_MODEL_4b9ecc459e86488192bad90c002ccfca",
            "value": "vocab.txt: 100%"
          }
        },
        "3be72d37b2264fa386d31dc542ebcd56": {
          "model_module": "@jupyter-widgets/controls",
          "model_module_version": "1.5.0",
          "model_name": "HTMLModel",
          "state": {
            "_dom_classes": [],
            "_model_module": "@jupyter-widgets/controls",
            "_model_module_version": "1.5.0",
            "_model_name": "HTMLModel",
            "_view_count": null,
            "_view_module": "@jupyter-widgets/controls",
            "_view_module_version": "1.5.0",
            "_view_name": "HTMLView",
            "description": "",
            "description_tooltip": null,
            "layout": "IPY_MODEL_ce7f944a055e47ba9becaf0f790f34b2",
            "placeholder": "​",
            "style": "IPY_MODEL_57f9cb22b05a4d0db9760b4e18bfde78",
            "value": "config.json: 100%"
          }
        },
        "4a0de2f0ee0141178469d136949da5f8": {
          "model_module": "@jupyter-widgets/base",
          "model_module_version": "1.2.0",
          "model_name": "LayoutModel",
          "state": {
            "_model_module": "@jupyter-widgets/base",
            "_model_module_version": "1.2.0",
            "_model_name": "LayoutModel",
            "_view_count": null,
            "_view_module": "@jupyter-widgets/base",
            "_view_module_version": "1.2.0",
            "_view_name": "LayoutView",
            "align_content": null,
            "align_items": null,
            "align_self": null,
            "border": null,
            "bottom": null,
            "display": null,
            "flex": null,
            "flex_flow": null,
            "grid_area": null,
            "grid_auto_columns": null,
            "grid_auto_flow": null,
            "grid_auto_rows": null,
            "grid_column": null,
            "grid_gap": null,
            "grid_row": null,
            "grid_template_areas": null,
            "grid_template_columns": null,
            "grid_template_rows": null,
            "height": null,
            "justify_content": null,
            "justify_items": null,
            "left": null,
            "margin": null,
            "max_height": null,
            "max_width": null,
            "min_height": null,
            "min_width": null,
            "object_fit": null,
            "object_position": null,
            "order": null,
            "overflow": null,
            "overflow_x": null,
            "overflow_y": null,
            "padding": null,
            "right": null,
            "top": null,
            "visibility": null,
            "width": null
          }
        },
        "4b9ecc459e86488192bad90c002ccfca": {
          "model_module": "@jupyter-widgets/controls",
          "model_module_version": "1.5.0",
          "model_name": "DescriptionStyleModel",
          "state": {
            "_model_module": "@jupyter-widgets/controls",
            "_model_module_version": "1.5.0",
            "_model_name": "DescriptionStyleModel",
            "_view_count": null,
            "_view_module": "@jupyter-widgets/base",
            "_view_module_version": "1.2.0",
            "_view_name": "StyleView",
            "description_width": ""
          }
        },
        "4c3a4a4eb9c945c7b6db5c28787a85ae": {
          "model_module": "@jupyter-widgets/base",
          "model_module_version": "1.2.0",
          "model_name": "LayoutModel",
          "state": {
            "_model_module": "@jupyter-widgets/base",
            "_model_module_version": "1.2.0",
            "_model_name": "LayoutModel",
            "_view_count": null,
            "_view_module": "@jupyter-widgets/base",
            "_view_module_version": "1.2.0",
            "_view_name": "LayoutView",
            "align_content": null,
            "align_items": null,
            "align_self": null,
            "border": null,
            "bottom": null,
            "display": null,
            "flex": null,
            "flex_flow": null,
            "grid_area": null,
            "grid_auto_columns": null,
            "grid_auto_flow": null,
            "grid_auto_rows": null,
            "grid_column": null,
            "grid_gap": null,
            "grid_row": null,
            "grid_template_areas": null,
            "grid_template_columns": null,
            "grid_template_rows": null,
            "height": null,
            "justify_content": null,
            "justify_items": null,
            "left": null,
            "margin": null,
            "max_height": null,
            "max_width": null,
            "min_height": null,
            "min_width": null,
            "object_fit": null,
            "object_position": null,
            "order": null,
            "overflow": null,
            "overflow_x": null,
            "overflow_y": null,
            "padding": null,
            "right": null,
            "top": null,
            "visibility": null,
            "width": null
          }
        },
        "5535c8a12ba54566b25ed71e0976fe6a": {
          "model_module": "@jupyter-widgets/base",
          "model_module_version": "1.2.0",
          "model_name": "LayoutModel",
          "state": {
            "_model_module": "@jupyter-widgets/base",
            "_model_module_version": "1.2.0",
            "_model_name": "LayoutModel",
            "_view_count": null,
            "_view_module": "@jupyter-widgets/base",
            "_view_module_version": "1.2.0",
            "_view_name": "LayoutView",
            "align_content": null,
            "align_items": null,
            "align_self": null,
            "border": null,
            "bottom": null,
            "display": null,
            "flex": null,
            "flex_flow": null,
            "grid_area": null,
            "grid_auto_columns": null,
            "grid_auto_flow": null,
            "grid_auto_rows": null,
            "grid_column": null,
            "grid_gap": null,
            "grid_row": null,
            "grid_template_areas": null,
            "grid_template_columns": null,
            "grid_template_rows": null,
            "height": null,
            "justify_content": null,
            "justify_items": null,
            "left": null,
            "margin": null,
            "max_height": null,
            "max_width": null,
            "min_height": null,
            "min_width": null,
            "object_fit": null,
            "object_position": null,
            "order": null,
            "overflow": null,
            "overflow_x": null,
            "overflow_y": null,
            "padding": null,
            "right": null,
            "top": null,
            "visibility": null,
            "width": null
          }
        },
        "57f9cb22b05a4d0db9760b4e18bfde78": {
          "model_module": "@jupyter-widgets/controls",
          "model_module_version": "1.5.0",
          "model_name": "DescriptionStyleModel",
          "state": {
            "_model_module": "@jupyter-widgets/controls",
            "_model_module_version": "1.5.0",
            "_model_name": "DescriptionStyleModel",
            "_view_count": null,
            "_view_module": "@jupyter-widgets/base",
            "_view_module_version": "1.2.0",
            "_view_name": "StyleView",
            "description_width": ""
          }
        },
        "5b65bcfd51f44715ad0f848154c6aebf": {
          "model_module": "@jupyter-widgets/base",
          "model_module_version": "1.2.0",
          "model_name": "LayoutModel",
          "state": {
            "_model_module": "@jupyter-widgets/base",
            "_model_module_version": "1.2.0",
            "_model_name": "LayoutModel",
            "_view_count": null,
            "_view_module": "@jupyter-widgets/base",
            "_view_module_version": "1.2.0",
            "_view_name": "LayoutView",
            "align_content": null,
            "align_items": null,
            "align_self": null,
            "border": null,
            "bottom": null,
            "display": null,
            "flex": null,
            "flex_flow": null,
            "grid_area": null,
            "grid_auto_columns": null,
            "grid_auto_flow": null,
            "grid_auto_rows": null,
            "grid_column": null,
            "grid_gap": null,
            "grid_row": null,
            "grid_template_areas": null,
            "grid_template_columns": null,
            "grid_template_rows": null,
            "height": null,
            "justify_content": null,
            "justify_items": null,
            "left": null,
            "margin": null,
            "max_height": null,
            "max_width": null,
            "min_height": null,
            "min_width": null,
            "object_fit": null,
            "object_position": null,
            "order": null,
            "overflow": null,
            "overflow_x": null,
            "overflow_y": null,
            "padding": null,
            "right": null,
            "top": null,
            "visibility": null,
            "width": null
          }
        },
        "7725c4a39dd641369424fa2ceb83222a": {
          "model_module": "@jupyter-widgets/controls",
          "model_module_version": "1.5.0",
          "model_name": "DescriptionStyleModel",
          "state": {
            "_model_module": "@jupyter-widgets/controls",
            "_model_module_version": "1.5.0",
            "_model_name": "DescriptionStyleModel",
            "_view_count": null,
            "_view_module": "@jupyter-widgets/base",
            "_view_module_version": "1.2.0",
            "_view_name": "StyleView",
            "description_width": ""
          }
        },
        "78856e0e872e43d2bd62e0a00f55bb19": {
          "model_module": "@jupyter-widgets/base",
          "model_module_version": "1.2.0",
          "model_name": "LayoutModel",
          "state": {
            "_model_module": "@jupyter-widgets/base",
            "_model_module_version": "1.2.0",
            "_model_name": "LayoutModel",
            "_view_count": null,
            "_view_module": "@jupyter-widgets/base",
            "_view_module_version": "1.2.0",
            "_view_name": "LayoutView",
            "align_content": null,
            "align_items": null,
            "align_self": null,
            "border": null,
            "bottom": null,
            "display": null,
            "flex": null,
            "flex_flow": null,
            "grid_area": null,
            "grid_auto_columns": null,
            "grid_auto_flow": null,
            "grid_auto_rows": null,
            "grid_column": null,
            "grid_gap": null,
            "grid_row": null,
            "grid_template_areas": null,
            "grid_template_columns": null,
            "grid_template_rows": null,
            "height": null,
            "justify_content": null,
            "justify_items": null,
            "left": null,
            "margin": null,
            "max_height": null,
            "max_width": null,
            "min_height": null,
            "min_width": null,
            "object_fit": null,
            "object_position": null,
            "order": null,
            "overflow": null,
            "overflow_x": null,
            "overflow_y": null,
            "padding": null,
            "right": null,
            "top": null,
            "visibility": null,
            "width": null
          }
        },
        "7db4314986b04a36af79f015d0e68882": {
          "model_module": "@jupyter-widgets/base",
          "model_module_version": "1.2.0",
          "model_name": "LayoutModel",
          "state": {
            "_model_module": "@jupyter-widgets/base",
            "_model_module_version": "1.2.0",
            "_model_name": "LayoutModel",
            "_view_count": null,
            "_view_module": "@jupyter-widgets/base",
            "_view_module_version": "1.2.0",
            "_view_name": "LayoutView",
            "align_content": null,
            "align_items": null,
            "align_self": null,
            "border": null,
            "bottom": null,
            "display": null,
            "flex": null,
            "flex_flow": null,
            "grid_area": null,
            "grid_auto_columns": null,
            "grid_auto_flow": null,
            "grid_auto_rows": null,
            "grid_column": null,
            "grid_gap": null,
            "grid_row": null,
            "grid_template_areas": null,
            "grid_template_columns": null,
            "grid_template_rows": null,
            "height": null,
            "justify_content": null,
            "justify_items": null,
            "left": null,
            "margin": null,
            "max_height": null,
            "max_width": null,
            "min_height": null,
            "min_width": null,
            "object_fit": null,
            "object_position": null,
            "order": null,
            "overflow": null,
            "overflow_x": null,
            "overflow_y": null,
            "padding": null,
            "right": null,
            "top": null,
            "visibility": null,
            "width": null
          }
        },
        "82bda4cc48cd4e0b92ebb4ea844814ed": {
          "model_module": "@jupyter-widgets/controls",
          "model_module_version": "1.5.0",
          "model_name": "HTMLModel",
          "state": {
            "_dom_classes": [],
            "_model_module": "@jupyter-widgets/controls",
            "_model_module_version": "1.5.0",
            "_model_name": "HTMLModel",
            "_view_count": null,
            "_view_module": "@jupyter-widgets/controls",
            "_view_module_version": "1.5.0",
            "_view_name": "HTMLView",
            "description": "",
            "description_tooltip": null,
            "layout": "IPY_MODEL_baf40fb8e80a457dbd0cbda40d50a298",
            "placeholder": "​",
            "style": "IPY_MODEL_b3bfdd2b3c604f7dacbab43e1ac19e81",
            "value": " 213k/213k [00:00&lt;00:00, 8.06MB/s]"
          }
        },
        "83b16dee7e534b899754e9be0023c20a": {
          "model_module": "@jupyter-widgets/controls",
          "model_module_version": "1.5.0",
          "model_name": "ProgressStyleModel",
          "state": {
            "_model_module": "@jupyter-widgets/controls",
            "_model_module_version": "1.5.0",
            "_model_name": "ProgressStyleModel",
            "_view_count": null,
            "_view_module": "@jupyter-widgets/base",
            "_view_module_version": "1.2.0",
            "_view_name": "StyleView",
            "bar_color": null,
            "description_width": ""
          }
        },
        "8bb26362320749a18e1367d531162ced": {
          "model_module": "@jupyter-widgets/controls",
          "model_module_version": "1.5.0",
          "model_name": "HTMLModel",
          "state": {
            "_dom_classes": [],
            "_model_module": "@jupyter-widgets/controls",
            "_model_module_version": "1.5.0",
            "_model_name": "HTMLModel",
            "_view_count": null,
            "_view_module": "@jupyter-widgets/controls",
            "_view_module_version": "1.5.0",
            "_view_name": "HTMLView",
            "description": "",
            "description_tooltip": null,
            "layout": "IPY_MODEL_e7621a1f451b4dcfa4e8025117fcc276",
            "placeholder": "​",
            "style": "IPY_MODEL_7725c4a39dd641369424fa2ceb83222a",
            "value": " 263M/263M [00:02&lt;00:00, 141MB/s]"
          }
        },
        "94c9899ff2cf40268414936aa19fb838": {
          "model_module": "@jupyter-widgets/base",
          "model_module_version": "1.2.0",
          "model_name": "LayoutModel",
          "state": {
            "_model_module": "@jupyter-widgets/base",
            "_model_module_version": "1.2.0",
            "_model_name": "LayoutModel",
            "_view_count": null,
            "_view_module": "@jupyter-widgets/base",
            "_view_module_version": "1.2.0",
            "_view_name": "LayoutView",
            "align_content": null,
            "align_items": null,
            "align_self": null,
            "border": null,
            "bottom": null,
            "display": null,
            "flex": null,
            "flex_flow": null,
            "grid_area": null,
            "grid_auto_columns": null,
            "grid_auto_flow": null,
            "grid_auto_rows": null,
            "grid_column": null,
            "grid_gap": null,
            "grid_row": null,
            "grid_template_areas": null,
            "grid_template_columns": null,
            "grid_template_rows": null,
            "height": null,
            "justify_content": null,
            "justify_items": null,
            "left": null,
            "margin": null,
            "max_height": null,
            "max_width": null,
            "min_height": null,
            "min_width": null,
            "object_fit": null,
            "object_position": null,
            "order": null,
            "overflow": null,
            "overflow_x": null,
            "overflow_y": null,
            "padding": null,
            "right": null,
            "top": null,
            "visibility": null,
            "width": null
          }
        },
        "94db2de082ae4a148ed7a619751fc67f": {
          "model_module": "@jupyter-widgets/base",
          "model_module_version": "1.2.0",
          "model_name": "LayoutModel",
          "state": {
            "_model_module": "@jupyter-widgets/base",
            "_model_module_version": "1.2.0",
            "_model_name": "LayoutModel",
            "_view_count": null,
            "_view_module": "@jupyter-widgets/base",
            "_view_module_version": "1.2.0",
            "_view_name": "LayoutView",
            "align_content": null,
            "align_items": null,
            "align_self": null,
            "border": null,
            "bottom": null,
            "display": null,
            "flex": null,
            "flex_flow": null,
            "grid_area": null,
            "grid_auto_columns": null,
            "grid_auto_flow": null,
            "grid_auto_rows": null,
            "grid_column": null,
            "grid_gap": null,
            "grid_row": null,
            "grid_template_areas": null,
            "grid_template_columns": null,
            "grid_template_rows": null,
            "height": null,
            "justify_content": null,
            "justify_items": null,
            "left": null,
            "margin": null,
            "max_height": null,
            "max_width": null,
            "min_height": null,
            "min_width": null,
            "object_fit": null,
            "object_position": null,
            "order": null,
            "overflow": null,
            "overflow_x": null,
            "overflow_y": null,
            "padding": null,
            "right": null,
            "top": null,
            "visibility": null,
            "width": null
          }
        },
        "9fa461bb2b7a406f9ede608c924c9bf4": {
          "model_module": "@jupyter-widgets/controls",
          "model_module_version": "1.5.0",
          "model_name": "HTMLModel",
          "state": {
            "_dom_classes": [],
            "_model_module": "@jupyter-widgets/controls",
            "_model_module_version": "1.5.0",
            "_model_name": "HTMLModel",
            "_view_count": null,
            "_view_module": "@jupyter-widgets/controls",
            "_view_module_version": "1.5.0",
            "_view_name": "HTMLView",
            "description": "",
            "description_tooltip": null,
            "layout": "IPY_MODEL_2288d77311aa4bc3bace7de60ff209e5",
            "placeholder": "​",
            "style": "IPY_MODEL_23d21a0b3a4641ff83e490e0a5c6305c",
            "value": "tokenizer_config.json: 100%"
          }
        },
        "a2d97a5218d6405f9b9f62cf95142753": {
          "model_module": "@jupyter-widgets/base",
          "model_module_version": "1.2.0",
          "model_name": "LayoutModel",
          "state": {
            "_model_module": "@jupyter-widgets/base",
            "_model_module_version": "1.2.0",
            "_model_name": "LayoutModel",
            "_view_count": null,
            "_view_module": "@jupyter-widgets/base",
            "_view_module_version": "1.2.0",
            "_view_name": "LayoutView",
            "align_content": null,
            "align_items": null,
            "align_self": null,
            "border": null,
            "bottom": null,
            "display": null,
            "flex": null,
            "flex_flow": null,
            "grid_area": null,
            "grid_auto_columns": null,
            "grid_auto_flow": null,
            "grid_auto_rows": null,
            "grid_column": null,
            "grid_gap": null,
            "grid_row": null,
            "grid_template_areas": null,
            "grid_template_columns": null,
            "grid_template_rows": null,
            "height": null,
            "justify_content": null,
            "justify_items": null,
            "left": null,
            "margin": null,
            "max_height": null,
            "max_width": null,
            "min_height": null,
            "min_width": null,
            "object_fit": null,
            "object_position": null,
            "order": null,
            "overflow": null,
            "overflow_x": null,
            "overflow_y": null,
            "padding": null,
            "right": null,
            "top": null,
            "visibility": null,
            "width": null
          }
        },
        "a68e295e0b7046e1b38b50184480d55a": {
          "model_module": "@jupyter-widgets/base",
          "model_module_version": "1.2.0",
          "model_name": "LayoutModel",
          "state": {
            "_model_module": "@jupyter-widgets/base",
            "_model_module_version": "1.2.0",
            "_model_name": "LayoutModel",
            "_view_count": null,
            "_view_module": "@jupyter-widgets/base",
            "_view_module_version": "1.2.0",
            "_view_name": "LayoutView",
            "align_content": null,
            "align_items": null,
            "align_self": null,
            "border": null,
            "bottom": null,
            "display": null,
            "flex": null,
            "flex_flow": null,
            "grid_area": null,
            "grid_auto_columns": null,
            "grid_auto_flow": null,
            "grid_auto_rows": null,
            "grid_column": null,
            "grid_gap": null,
            "grid_row": null,
            "grid_template_areas": null,
            "grid_template_columns": null,
            "grid_template_rows": null,
            "height": null,
            "justify_content": null,
            "justify_items": null,
            "left": null,
            "margin": null,
            "max_height": null,
            "max_width": null,
            "min_height": null,
            "min_width": null,
            "object_fit": null,
            "object_position": null,
            "order": null,
            "overflow": null,
            "overflow_x": null,
            "overflow_y": null,
            "padding": null,
            "right": null,
            "top": null,
            "visibility": null,
            "width": null
          }
        },
        "a9c03ff1ec8740f2a2b91dc5fe0a5048": {
          "model_module": "@jupyter-widgets/controls",
          "model_module_version": "1.5.0",
          "model_name": "FloatProgressModel",
          "state": {
            "_dom_classes": [],
            "_model_module": "@jupyter-widgets/controls",
            "_model_module_version": "1.5.0",
            "_model_name": "FloatProgressModel",
            "_view_count": null,
            "_view_module": "@jupyter-widgets/controls",
            "_view_module_version": "1.5.0",
            "_view_name": "ProgressView",
            "bar_style": "success",
            "description": "",
            "description_tooltip": null,
            "layout": "IPY_MODEL_ff26af11c1bb41e0b532159878965d41",
            "max": 213450,
            "min": 0,
            "orientation": "horizontal",
            "style": "IPY_MODEL_b9daf3ece55042a3aaa263fbd1a22305",
            "value": 213450
          }
        },
        "aaffc37f01e94036bb267b0d6e86188e": {
          "model_module": "@jupyter-widgets/controls",
          "model_module_version": "1.5.0",
          "model_name": "FloatProgressModel",
          "state": {
            "_dom_classes": [],
            "_model_module": "@jupyter-widgets/controls",
            "_model_module_version": "1.5.0",
            "_model_name": "FloatProgressModel",
            "_view_count": null,
            "_view_module": "@jupyter-widgets/controls",
            "_view_module_version": "1.5.0",
            "_view_name": "ProgressView",
            "bar_style": "success",
            "description": "",
            "description_tooltip": null,
            "layout": "IPY_MODEL_a2d97a5218d6405f9b9f62cf95142753",
            "max": 435797,
            "min": 0,
            "orientation": "horizontal",
            "style": "IPY_MODEL_cf2993d35df445ee99167258bff4a67d",
            "value": 435797
          }
        },
        "acc0f7c5fbdb4648b19254c46f0a6845": {
          "model_module": "@jupyter-widgets/controls",
          "model_module_version": "1.5.0",
          "model_name": "HTMLModel",
          "state": {
            "_dom_classes": [],
            "_model_module": "@jupyter-widgets/controls",
            "_model_module_version": "1.5.0",
            "_model_name": "HTMLModel",
            "_view_count": null,
            "_view_module": "@jupyter-widgets/controls",
            "_view_module_version": "1.5.0",
            "_view_name": "HTMLView",
            "description": "",
            "description_tooltip": null,
            "layout": "IPY_MODEL_4a0de2f0ee0141178469d136949da5f8",
            "placeholder": "​",
            "style": "IPY_MODEL_100f142ef0e3448f850e527390c5d154",
            "value": " 465/465 [00:00&lt;00:00, 54.5kB/s]"
          }
        },
        "b3bfdd2b3c604f7dacbab43e1ac19e81": {
          "model_module": "@jupyter-widgets/controls",
          "model_module_version": "1.5.0",
          "model_name": "DescriptionStyleModel",
          "state": {
            "_model_module": "@jupyter-widgets/controls",
            "_model_module_version": "1.5.0",
            "_model_name": "DescriptionStyleModel",
            "_view_count": null,
            "_view_module": "@jupyter-widgets/base",
            "_view_module_version": "1.2.0",
            "_view_name": "StyleView",
            "description_width": ""
          }
        },
        "b9daf3ece55042a3aaa263fbd1a22305": {
          "model_module": "@jupyter-widgets/controls",
          "model_module_version": "1.5.0",
          "model_name": "ProgressStyleModel",
          "state": {
            "_model_module": "@jupyter-widgets/controls",
            "_model_module_version": "1.5.0",
            "_model_name": "ProgressStyleModel",
            "_view_count": null,
            "_view_module": "@jupyter-widgets/base",
            "_view_module_version": "1.2.0",
            "_view_name": "StyleView",
            "bar_color": null,
            "description_width": ""
          }
        },
        "baf40fb8e80a457dbd0cbda40d50a298": {
          "model_module": "@jupyter-widgets/base",
          "model_module_version": "1.2.0",
          "model_name": "LayoutModel",
          "state": {
            "_model_module": "@jupyter-widgets/base",
            "_model_module_version": "1.2.0",
            "_model_name": "LayoutModel",
            "_view_count": null,
            "_view_module": "@jupyter-widgets/base",
            "_view_module_version": "1.2.0",
            "_view_name": "LayoutView",
            "align_content": null,
            "align_items": null,
            "align_self": null,
            "border": null,
            "bottom": null,
            "display": null,
            "flex": null,
            "flex_flow": null,
            "grid_area": null,
            "grid_auto_columns": null,
            "grid_auto_flow": null,
            "grid_auto_rows": null,
            "grid_column": null,
            "grid_gap": null,
            "grid_row": null,
            "grid_template_areas": null,
            "grid_template_columns": null,
            "grid_template_rows": null,
            "height": null,
            "justify_content": null,
            "justify_items": null,
            "left": null,
            "margin": null,
            "max_height": null,
            "max_width": null,
            "min_height": null,
            "min_width": null,
            "object_fit": null,
            "object_position": null,
            "order": null,
            "overflow": null,
            "overflow_x": null,
            "overflow_y": null,
            "padding": null,
            "right": null,
            "top": null,
            "visibility": null,
            "width": null
          }
        },
        "bb68d4ea25e147ce87da5cf7a0b9b8f8": {
          "model_module": "@jupyter-widgets/controls",
          "model_module_version": "1.5.0",
          "model_name": "DescriptionStyleModel",
          "state": {
            "_model_module": "@jupyter-widgets/controls",
            "_model_module_version": "1.5.0",
            "_model_name": "DescriptionStyleModel",
            "_view_count": null,
            "_view_module": "@jupyter-widgets/base",
            "_view_module_version": "1.2.0",
            "_view_name": "StyleView",
            "description_width": ""
          }
        },
        "bc7df93cbf144e2b864f9832eba39ac1": {
          "model_module": "@jupyter-widgets/controls",
          "model_module_version": "1.5.0",
          "model_name": "HBoxModel",
          "state": {
            "_dom_classes": [],
            "_model_module": "@jupyter-widgets/controls",
            "_model_module_version": "1.5.0",
            "_model_name": "HBoxModel",
            "_view_count": null,
            "_view_module": "@jupyter-widgets/controls",
            "_view_module_version": "1.5.0",
            "_view_name": "HBoxView",
            "box_style": "",
            "children": [
              "IPY_MODEL_d78db7ab015e4c50a582bc1e132f1da1",
              "IPY_MODEL_2e70997843ac40ce9e8527f8daf3dc71",
              "IPY_MODEL_8bb26362320749a18e1367d531162ced"
            ],
            "layout": "IPY_MODEL_a68e295e0b7046e1b38b50184480d55a"
          }
        },
        "c0c470dda02749d7a61c4c9994507660": {
          "model_module": "@jupyter-widgets/controls",
          "model_module_version": "1.5.0",
          "model_name": "HBoxModel",
          "state": {
            "_dom_classes": [],
            "_model_module": "@jupyter-widgets/controls",
            "_model_module_version": "1.5.0",
            "_model_name": "HBoxModel",
            "_view_count": null,
            "_view_module": "@jupyter-widgets/controls",
            "_view_module_version": "1.5.0",
            "_view_name": "HBoxView",
            "box_style": "",
            "children": [
              "IPY_MODEL_9fa461bb2b7a406f9ede608c924c9bf4",
              "IPY_MODEL_f7ec1c23c4b94384a037430ec2e2104e",
              "IPY_MODEL_d551304b4a544194abd28cc09f2ad83f"
            ],
            "layout": "IPY_MODEL_18a99cc6bda54e869c910be328b48926"
          }
        },
        "c2654fcb0de54a05bff9cb15228648f8": {
          "model_module": "@jupyter-widgets/base",
          "model_module_version": "1.2.0",
          "model_name": "LayoutModel",
          "state": {
            "_model_module": "@jupyter-widgets/base",
            "_model_module_version": "1.2.0",
            "_model_name": "LayoutModel",
            "_view_count": null,
            "_view_module": "@jupyter-widgets/base",
            "_view_module_version": "1.2.0",
            "_view_name": "LayoutView",
            "align_content": null,
            "align_items": null,
            "align_self": null,
            "border": null,
            "bottom": null,
            "display": null,
            "flex": null,
            "flex_flow": null,
            "grid_area": null,
            "grid_auto_columns": null,
            "grid_auto_flow": null,
            "grid_auto_rows": null,
            "grid_column": null,
            "grid_gap": null,
            "grid_row": null,
            "grid_template_areas": null,
            "grid_template_columns": null,
            "grid_template_rows": null,
            "height": null,
            "justify_content": null,
            "justify_items": null,
            "left": null,
            "margin": null,
            "max_height": null,
            "max_width": null,
            "min_height": null,
            "min_width": null,
            "object_fit": null,
            "object_position": null,
            "order": null,
            "overflow": null,
            "overflow_x": null,
            "overflow_y": null,
            "padding": null,
            "right": null,
            "top": null,
            "visibility": null,
            "width": null
          }
        },
        "ce7f944a055e47ba9becaf0f790f34b2": {
          "model_module": "@jupyter-widgets/base",
          "model_module_version": "1.2.0",
          "model_name": "LayoutModel",
          "state": {
            "_model_module": "@jupyter-widgets/base",
            "_model_module_version": "1.2.0",
            "_model_name": "LayoutModel",
            "_view_count": null,
            "_view_module": "@jupyter-widgets/base",
            "_view_module_version": "1.2.0",
            "_view_name": "LayoutView",
            "align_content": null,
            "align_items": null,
            "align_self": null,
            "border": null,
            "bottom": null,
            "display": null,
            "flex": null,
            "flex_flow": null,
            "grid_area": null,
            "grid_auto_columns": null,
            "grid_auto_flow": null,
            "grid_auto_rows": null,
            "grid_column": null,
            "grid_gap": null,
            "grid_row": null,
            "grid_template_areas": null,
            "grid_template_columns": null,
            "grid_template_rows": null,
            "height": null,
            "justify_content": null,
            "justify_items": null,
            "left": null,
            "margin": null,
            "max_height": null,
            "max_width": null,
            "min_height": null,
            "min_width": null,
            "object_fit": null,
            "object_position": null,
            "order": null,
            "overflow": null,
            "overflow_x": null,
            "overflow_y": null,
            "padding": null,
            "right": null,
            "top": null,
            "visibility": null,
            "width": null
          }
        },
        "cf2993d35df445ee99167258bff4a67d": {
          "model_module": "@jupyter-widgets/controls",
          "model_module_version": "1.5.0",
          "model_name": "ProgressStyleModel",
          "state": {
            "_model_module": "@jupyter-widgets/controls",
            "_model_module_version": "1.5.0",
            "_model_name": "ProgressStyleModel",
            "_view_count": null,
            "_view_module": "@jupyter-widgets/base",
            "_view_module_version": "1.2.0",
            "_view_name": "StyleView",
            "bar_color": null,
            "description_width": ""
          }
        },
        "d551304b4a544194abd28cc09f2ad83f": {
          "model_module": "@jupyter-widgets/controls",
          "model_module_version": "1.5.0",
          "model_name": "HTMLModel",
          "state": {
            "_dom_classes": [],
            "_model_module": "@jupyter-widgets/controls",
            "_model_module_version": "1.5.0",
            "_model_name": "HTMLModel",
            "_view_count": null,
            "_view_module": "@jupyter-widgets/controls",
            "_view_module_version": "1.5.0",
            "_view_name": "HTMLView",
            "description": "",
            "description_tooltip": null,
            "layout": "IPY_MODEL_165cc18d27f6428586e7d490e26baef2",
            "placeholder": "​",
            "style": "IPY_MODEL_bb68d4ea25e147ce87da5cf7a0b9b8f8",
            "value": " 49.0/49.0 [00:00&lt;00:00, 5.82kB/s]"
          }
        },
        "d78db7ab015e4c50a582bc1e132f1da1": {
          "model_module": "@jupyter-widgets/controls",
          "model_module_version": "1.5.0",
          "model_name": "HTMLModel",
          "state": {
            "_dom_classes": [],
            "_model_module": "@jupyter-widgets/controls",
            "_model_module_version": "1.5.0",
            "_model_name": "HTMLModel",
            "_view_count": null,
            "_view_module": "@jupyter-widgets/controls",
            "_view_module_version": "1.5.0",
            "_view_name": "HTMLView",
            "description": "",
            "description_tooltip": null,
            "layout": "IPY_MODEL_15aeb7b2a0804ac29eda018767ed0f4e",
            "placeholder": "​",
            "style": "IPY_MODEL_dae7d044958e403fb9aced5e0afb2101",
            "value": "model.safetensors: 100%"
          }
        },
        "d9914a04e36341f0a75f00e3b8e36218": {
          "model_module": "@jupyter-widgets/controls",
          "model_module_version": "1.5.0",
          "model_name": "ProgressStyleModel",
          "state": {
            "_model_module": "@jupyter-widgets/controls",
            "_model_module_version": "1.5.0",
            "_model_name": "ProgressStyleModel",
            "_view_count": null,
            "_view_module": "@jupyter-widgets/base",
            "_view_module_version": "1.2.0",
            "_view_name": "StyleView",
            "bar_color": null,
            "description_width": ""
          }
        },
        "dae7d044958e403fb9aced5e0afb2101": {
          "model_module": "@jupyter-widgets/controls",
          "model_module_version": "1.5.0",
          "model_name": "DescriptionStyleModel",
          "state": {
            "_model_module": "@jupyter-widgets/controls",
            "_model_module_version": "1.5.0",
            "_model_name": "DescriptionStyleModel",
            "_view_count": null,
            "_view_module": "@jupyter-widgets/base",
            "_view_module_version": "1.2.0",
            "_view_name": "StyleView",
            "description_width": ""
          }
        },
        "e7621a1f451b4dcfa4e8025117fcc276": {
          "model_module": "@jupyter-widgets/base",
          "model_module_version": "1.2.0",
          "model_name": "LayoutModel",
          "state": {
            "_model_module": "@jupyter-widgets/base",
            "_model_module_version": "1.2.0",
            "_model_name": "LayoutModel",
            "_view_count": null,
            "_view_module": "@jupyter-widgets/base",
            "_view_module_version": "1.2.0",
            "_view_name": "LayoutView",
            "align_content": null,
            "align_items": null,
            "align_self": null,
            "border": null,
            "bottom": null,
            "display": null,
            "flex": null,
            "flex_flow": null,
            "grid_area": null,
            "grid_auto_columns": null,
            "grid_auto_flow": null,
            "grid_auto_rows": null,
            "grid_column": null,
            "grid_gap": null,
            "grid_row": null,
            "grid_template_areas": null,
            "grid_template_columns": null,
            "grid_template_rows": null,
            "height": null,
            "justify_content": null,
            "justify_items": null,
            "left": null,
            "margin": null,
            "max_height": null,
            "max_width": null,
            "min_height": null,
            "min_width": null,
            "object_fit": null,
            "object_position": null,
            "order": null,
            "overflow": null,
            "overflow_x": null,
            "overflow_y": null,
            "padding": null,
            "right": null,
            "top": null,
            "visibility": null,
            "width": null
          }
        },
        "ef92cb1d41db4f108adfe83c3b76d858": {
          "model_module": "@jupyter-widgets/controls",
          "model_module_version": "1.5.0",
          "model_name": "HTMLModel",
          "state": {
            "_dom_classes": [],
            "_model_module": "@jupyter-widgets/controls",
            "_model_module_version": "1.5.0",
            "_model_name": "HTMLModel",
            "_view_count": null,
            "_view_module": "@jupyter-widgets/controls",
            "_view_module_version": "1.5.0",
            "_view_name": "HTMLView",
            "description": "",
            "description_tooltip": null,
            "layout": "IPY_MODEL_94db2de082ae4a148ed7a619751fc67f",
            "placeholder": "​",
            "style": "IPY_MODEL_0daad0d19b184e5bb9b0763e1dbca11f",
            "value": "tokenizer.json: 100%"
          }
        },
        "f556c071faf146a7ad039dbd207a056d": {
          "model_module": "@jupyter-widgets/controls",
          "model_module_version": "1.5.0",
          "model_name": "FloatProgressModel",
          "state": {
            "_dom_classes": [],
            "_model_module": "@jupyter-widgets/controls",
            "_model_module_version": "1.5.0",
            "_model_name": "FloatProgressModel",
            "_view_count": null,
            "_view_module": "@jupyter-widgets/controls",
            "_view_module_version": "1.5.0",
            "_view_name": "ProgressView",
            "bar_style": "success",
            "description": "",
            "description_tooltip": null,
            "layout": "IPY_MODEL_30147e45534045449c5a6c9c921d0659",
            "max": 465,
            "min": 0,
            "orientation": "horizontal",
            "style": "IPY_MODEL_d9914a04e36341f0a75f00e3b8e36218",
            "value": 465
          }
        },
        "f7ec1c23c4b94384a037430ec2e2104e": {
          "model_module": "@jupyter-widgets/controls",
          "model_module_version": "1.5.0",
          "model_name": "FloatProgressModel",
          "state": {
            "_dom_classes": [],
            "_model_module": "@jupyter-widgets/controls",
            "_model_module_version": "1.5.0",
            "_model_name": "FloatProgressModel",
            "_view_count": null,
            "_view_module": "@jupyter-widgets/controls",
            "_view_module_version": "1.5.0",
            "_view_name": "ProgressView",
            "bar_style": "success",
            "description": "",
            "description_tooltip": null,
            "layout": "IPY_MODEL_94c9899ff2cf40268414936aa19fb838",
            "max": 49,
            "min": 0,
            "orientation": "horizontal",
            "style": "IPY_MODEL_83b16dee7e534b899754e9be0023c20a",
            "value": 49
          }
        },
        "faf85a73bedc4d9c8abf0159cc2fb70b": {
          "model_module": "@jupyter-widgets/controls",
          "model_module_version": "1.5.0",
          "model_name": "HTMLModel",
          "state": {
            "_dom_classes": [],
            "_model_module": "@jupyter-widgets/controls",
            "_model_module_version": "1.5.0",
            "_model_name": "HTMLModel",
            "_view_count": null,
            "_view_module": "@jupyter-widgets/controls",
            "_view_module_version": "1.5.0",
            "_view_name": "HTMLView",
            "description": "",
            "description_tooltip": null,
            "layout": "IPY_MODEL_78856e0e872e43d2bd62e0a00f55bb19",
            "placeholder": "​",
            "style": "IPY_MODEL_243d4ca33ec748b895a6c7d74ac14e69",
            "value": " 436k/436k [00:00&lt;00:00, 6.19MB/s]"
          }
        },
        "ff26af11c1bb41e0b532159878965d41": {
          "model_module": "@jupyter-widgets/base",
          "model_module_version": "1.2.0",
          "model_name": "LayoutModel",
          "state": {
            "_model_module": "@jupyter-widgets/base",
            "_model_module_version": "1.2.0",
            "_model_name": "LayoutModel",
            "_view_count": null,
            "_view_module": "@jupyter-widgets/base",
            "_view_module_version": "1.2.0",
            "_view_name": "LayoutView",
            "align_content": null,
            "align_items": null,
            "align_self": null,
            "border": null,
            "bottom": null,
            "display": null,
            "flex": null,
            "flex_flow": null,
            "grid_area": null,
            "grid_auto_columns": null,
            "grid_auto_flow": null,
            "grid_auto_rows": null,
            "grid_column": null,
            "grid_gap": null,
            "grid_row": null,
            "grid_template_areas": null,
            "grid_template_columns": null,
            "grid_template_rows": null,
            "height": null,
            "justify_content": null,
            "justify_items": null,
            "left": null,
            "margin": null,
            "max_height": null,
            "max_width": null,
            "min_height": null,
            "min_width": null,
            "object_fit": null,
            "object_position": null,
            "order": null,
            "overflow": null,
            "overflow_x": null,
            "overflow_y": null,
            "padding": null,
            "right": null,
            "top": null,
            "visibility": null,
            "width": null
          }
        }
      }
    }
  },
  "nbformat": 4,
  "nbformat_minor": 0
}
